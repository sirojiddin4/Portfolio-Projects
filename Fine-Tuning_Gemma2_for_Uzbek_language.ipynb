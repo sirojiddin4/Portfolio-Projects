{
 "cells": [
{
  "cell_type": "markdown",
  "id": "ca146722-f863-4bed-9f7c-7a2fae235ac7",
  "metadata": {},
  "source": [
    "# Fine-Tuning Gemma 2 for Uzbek Language\n\n",
    "## Project Description\n\n",
    "This project aims to fine-tune the Gemma 2 language model with data in the Uzbek language. The objective is to enhance the model's fluency and contextual understanding of Uzbek, making it a more reliable and effective tool for tasks involving this language.\n\n",
    "## Dependencies\n\n",
    "*To execute the steps in this project, you will need the following dependencies installed:*\n\n",
    "- Python 3.8 or later\n",
    "- TensorFlow 2.9 or later\n",
    "- Keras NLP\n",
    "- Datasets library\n",
    "- IPython for interactive Python environments\n",
    "- Matplotlib for visualization\n"
  ]
},
  {
   "cell_type": "markdown",
   "id": "a79591f7-2dca-4634-9201-b161e73c2bb2",
   "metadata": {},
   "source": [
    "This section outlines the setup process for installing and configuring Keras, focusing on using the JAX backend to optimize memory usage and enable advanced training configurations for fine-tuning the Gemma 2 model."
   ]
  },
  {
   "cell_type": "code",
   "execution_count": 1,
   "id": "3198e2a7",
   "metadata": {
    "execution": {
     "iopub.execute_input": "2025-01-14T15:52:30.340774Z",
     "iopub.status.busy": "2025-01-14T15:52:30.340431Z",
     "iopub.status.idle": "2025-01-14T15:52:50.303381Z",
     "shell.execute_reply": "2025-01-14T15:52:50.302597Z"
    },
    "papermill": {
     "duration": 19.968167,
     "end_time": "2025-01-14T15:52:50.305052",
     "exception": false,
     "start_time": "2025-01-14T15:52:30.336885",
     "status": "completed"
    },
    "tags": []
   },
   "outputs": [
    {
     "name": "stdout",
     "output_type": "stream",
     "text": [
      "\u001b[2K   \u001b[90m━━━━━━━━━━━━━━━━━━━━━━━━━━━━━━━━━━━━━━━━\u001b[0m \u001b[32m1.3/1.3 MB\u001b[0m \u001b[31m31.4 MB/s\u001b[0m eta \u001b[36m0:00:00\u001b[0m\r\n",
      "\u001b[?25h"
     ]
    }
   ],
   "source": [
    "# Install Keras 3 last. See https://keras.io/getting_started/ for more details.\n",
    "!pip install -q -U keras-nlp datasets\n",
    "!pip install -q -U keras\n",
    "\n",
    "import os\n",
    "\n",
    "# Set the backbend before importing Keras\n",
    "os.environ[\"KERAS_BACKEND\"] = \"jax\"\n",
    "# Avoid memory fragmentation on JAX backend.\n",
    "os.environ[\"XLA_PYTHON_CLIENT_MEM_FRACTION\"] = \"1.00\"\n",
    "\n",
    "import keras_nlp\n",
    "import keras\n",
    "\n",
    "# Run at half precision.\n",
    "#keras.config.set_floatx(\"bfloat16\")\n",
    "\n",
    "# Training Configurations\n",
    "token_limit = 512\n",
    "num_data_limit = 100\n",
    "lora_name = \"uzbek_gemma_5\"\n",
    "lora_rank = 4\n",
    "lr_value = 1e-4\n",
    "train_epoch = 20\n",
    "model_id = \"gemma2_instruct_2b_en\""
   ]
  },
  {
   "cell_type": "markdown",
   "id": "43f4454f-277e-42f6-808f-e19d0fdd756c",
   "metadata": {},
   "source": [
    "This section describes how to set up the Gemma 2 language model for text generation tasks, including loading the model, generating outputs based on user prompts, and measuring inference time to evaluate performance before fine-tuning."
   ]
  },
  {
   "cell_type": "code",
   "execution_count": 2,
   "id": "0bf305c4",
   "metadata": {
    "execution": {
     "iopub.execute_input": "2025-01-14T15:52:50.310943Z",
     "iopub.status.busy": "2025-01-14T15:52:50.310409Z",
     "iopub.status.idle": "2025-01-14T15:53:52.768611Z",
     "shell.execute_reply": "2025-01-14T15:53:52.767248Z"
    },
    "papermill": {
     "duration": 62.462613,
     "end_time": "2025-01-14T15:53:52.770248",
     "exception": false,
     "start_time": "2025-01-14T15:52:50.307635",
     "status": "completed"
    },
    "tags": []
   },
   "outputs": [
    {
     "data": {
      "text/html": [
       "<pre style=\"white-space:pre;overflow-x:auto;line-height:normal;font-family:Menlo,'DejaVu Sans Mono',consolas,'Courier New',monospace\"><span style=\"font-weight: bold\">Preprocessor: \"gemma_causal_lm_preprocessor\"</span>\n",
       "</pre>\n"
      ],
      "text/plain": [
       "\u001b[1mPreprocessor: \"gemma_causal_lm_preprocessor\"\u001b[0m\n"
      ]
     },
     "metadata": {},
     "output_type": "display_data"
    },
    {
     "data": {
      "text/html": [
       "<pre style=\"white-space:pre;overflow-x:auto;line-height:normal;font-family:Menlo,'DejaVu Sans Mono',consolas,'Courier New',monospace\">┏━━━━━━━━━━━━━━━━━━━━━━━━━━━━━━━━━━━━━━━━━━━━━━━━━━━━━━━━━━━━━━━┳━━━━━━━━━━━━━━━━━━━━━━━━━━━━━━━━━━━━━━━━━━┓\n",
       "┃<span style=\"font-weight: bold\"> Layer (type)                                                  </span>┃<span style=\"font-weight: bold\">                                   Config </span>┃\n",
       "┡━━━━━━━━━━━━━━━━━━━━━━━━━━━━━━━━━━━━━━━━━━━━━━━━━━━━━━━━━━━━━━━╇━━━━━━━━━━━━━━━━━━━━━━━━━━━━━━━━━━━━━━━━━━┩\n",
       "│ gemma_tokenizer (<span style=\"color: #0087ff; text-decoration-color: #0087ff\">GemmaTokenizer</span>)                              │                      Vocab size: <span style=\"color: #00af00; text-decoration-color: #00af00\">256,000</span> │\n",
       "└───────────────────────────────────────────────────────────────┴──────────────────────────────────────────┘\n",
       "</pre>\n"
      ],
      "text/plain": [
       "┏━━━━━━━━━━━━━━━━━━━━━━━━━━━━━━━━━━━━━━━━━━━━━━━━━━━━━━━━━━━━━━━┳━━━━━━━━━━━━━━━━━━━━━━━━━━━━━━━━━━━━━━━━━━┓\n",
       "┃\u001b[1m \u001b[0m\u001b[1mLayer (type)                                                 \u001b[0m\u001b[1m \u001b[0m┃\u001b[1m \u001b[0m\u001b[1m                                  Config\u001b[0m\u001b[1m \u001b[0m┃\n",
       "┡━━━━━━━━━━━━━━━━━━━━━━━━━━━━━━━━━━━━━━━━━━━━━━━━━━━━━━━━━━━━━━━╇━━━━━━━━━━━━━━━━━━━━━━━━━━━━━━━━━━━━━━━━━━┩\n",
       "│ gemma_tokenizer (\u001b[38;5;33mGemmaTokenizer\u001b[0m)                              │                      Vocab size: \u001b[38;5;34m256,000\u001b[0m │\n",
       "└───────────────────────────────────────────────────────────────┴──────────────────────────────────────────┘\n"
      ]
     },
     "metadata": {},
     "output_type": "display_data"
    },
    {
     "data": {
      "text/html": [
       "<pre style=\"white-space:pre;overflow-x:auto;line-height:normal;font-family:Menlo,'DejaVu Sans Mono',consolas,'Courier New',monospace\"><span style=\"font-weight: bold\">Model: \"gemma_causal_lm\"</span>\n",
       "</pre>\n"
      ],
      "text/plain": [
       "\u001b[1mModel: \"gemma_causal_lm\"\u001b[0m\n"
      ]
     },
     "metadata": {},
     "output_type": "display_data"
    },
    {
     "data": {
      "text/html": [
       "<pre style=\"white-space:pre;overflow-x:auto;line-height:normal;font-family:Menlo,'DejaVu Sans Mono',consolas,'Courier New',monospace\">┏━━━━━━━━━━━━━━━━━━━━━━━━━━━━━━━┳━━━━━━━━━━━━━━━━━━━━━━━━━━━┳━━━━━━━━━━━━━━━━━┳━━━━━━━━━━━━━━━━━━━━━━━━━━━━┓\n",
       "┃<span style=\"font-weight: bold\"> Layer (type)                  </span>┃<span style=\"font-weight: bold\"> Output Shape              </span>┃<span style=\"font-weight: bold\">         Param # </span>┃<span style=\"font-weight: bold\"> Connected to               </span>┃\n",
       "┡━━━━━━━━━━━━━━━━━━━━━━━━━━━━━━━╇━━━━━━━━━━━━━━━━━━━━━━━━━━━╇━━━━━━━━━━━━━━━━━╇━━━━━━━━━━━━━━━━━━━━━━━━━━━━┩\n",
       "│ padding_mask (<span style=\"color: #0087ff; text-decoration-color: #0087ff\">InputLayer</span>)     │ (<span style=\"color: #00d7ff; text-decoration-color: #00d7ff\">None</span>, <span style=\"color: #00d7ff; text-decoration-color: #00d7ff\">None</span>)              │               <span style=\"color: #00af00; text-decoration-color: #00af00\">0</span> │ -                          │\n",
       "├───────────────────────────────┼───────────────────────────┼─────────────────┼────────────────────────────┤\n",
       "│ token_ids (<span style=\"color: #0087ff; text-decoration-color: #0087ff\">InputLayer</span>)        │ (<span style=\"color: #00d7ff; text-decoration-color: #00d7ff\">None</span>, <span style=\"color: #00d7ff; text-decoration-color: #00d7ff\">None</span>)              │               <span style=\"color: #00af00; text-decoration-color: #00af00\">0</span> │ -                          │\n",
       "├───────────────────────────────┼───────────────────────────┼─────────────────┼────────────────────────────┤\n",
       "│ gemma_backbone                │ (<span style=\"color: #00d7ff; text-decoration-color: #00d7ff\">None</span>, <span style=\"color: #00d7ff; text-decoration-color: #00d7ff\">None</span>, <span style=\"color: #00af00; text-decoration-color: #00af00\">2304</span>)        │   <span style=\"color: #00af00; text-decoration-color: #00af00\">2,614,341,888</span> │ padding_mask[<span style=\"color: #00af00; text-decoration-color: #00af00\">0</span>][<span style=\"color: #00af00; text-decoration-color: #00af00\">0</span>],        │\n",
       "│ (<span style=\"color: #0087ff; text-decoration-color: #0087ff\">GemmaBackbone</span>)               │                           │                 │ token_ids[<span style=\"color: #00af00; text-decoration-color: #00af00\">0</span>][<span style=\"color: #00af00; text-decoration-color: #00af00\">0</span>]            │\n",
       "├───────────────────────────────┼───────────────────────────┼─────────────────┼────────────────────────────┤\n",
       "│ token_embedding               │ (<span style=\"color: #00d7ff; text-decoration-color: #00d7ff\">None</span>, <span style=\"color: #00d7ff; text-decoration-color: #00d7ff\">None</span>, <span style=\"color: #00af00; text-decoration-color: #00af00\">256000</span>)      │     <span style=\"color: #00af00; text-decoration-color: #00af00\">589,824,000</span> │ gemma_backbone[<span style=\"color: #00af00; text-decoration-color: #00af00\">0</span>][<span style=\"color: #00af00; text-decoration-color: #00af00\">0</span>]       │\n",
       "│ (<span style=\"color: #0087ff; text-decoration-color: #0087ff\">ReversibleEmbedding</span>)         │                           │                 │                            │\n",
       "└───────────────────────────────┴───────────────────────────┴─────────────────┴────────────────────────────┘\n",
       "</pre>\n"
      ],
      "text/plain": [
       "┏━━━━━━━━━━━━━━━━━━━━━━━━━━━━━━━┳━━━━━━━━━━━━━━━━━━━━━━━━━━━┳━━━━━━━━━━━━━━━━━┳━━━━━━━━━━━━━━━━━━━━━━━━━━━━┓\n",
       "┃\u001b[1m \u001b[0m\u001b[1mLayer (type)                 \u001b[0m\u001b[1m \u001b[0m┃\u001b[1m \u001b[0m\u001b[1mOutput Shape             \u001b[0m\u001b[1m \u001b[0m┃\u001b[1m \u001b[0m\u001b[1m        Param #\u001b[0m\u001b[1m \u001b[0m┃\u001b[1m \u001b[0m\u001b[1mConnected to              \u001b[0m\u001b[1m \u001b[0m┃\n",
       "┡━━━━━━━━━━━━━━━━━━━━━━━━━━━━━━━╇━━━━━━━━━━━━━━━━━━━━━━━━━━━╇━━━━━━━━━━━━━━━━━╇━━━━━━━━━━━━━━━━━━━━━━━━━━━━┩\n",
       "│ padding_mask (\u001b[38;5;33mInputLayer\u001b[0m)     │ (\u001b[38;5;45mNone\u001b[0m, \u001b[38;5;45mNone\u001b[0m)              │               \u001b[38;5;34m0\u001b[0m │ -                          │\n",
       "├───────────────────────────────┼───────────────────────────┼─────────────────┼────────────────────────────┤\n",
       "│ token_ids (\u001b[38;5;33mInputLayer\u001b[0m)        │ (\u001b[38;5;45mNone\u001b[0m, \u001b[38;5;45mNone\u001b[0m)              │               \u001b[38;5;34m0\u001b[0m │ -                          │\n",
       "├───────────────────────────────┼───────────────────────────┼─────────────────┼────────────────────────────┤\n",
       "│ gemma_backbone                │ (\u001b[38;5;45mNone\u001b[0m, \u001b[38;5;45mNone\u001b[0m, \u001b[38;5;34m2304\u001b[0m)        │   \u001b[38;5;34m2,614,341,888\u001b[0m │ padding_mask[\u001b[38;5;34m0\u001b[0m][\u001b[38;5;34m0\u001b[0m],        │\n",
       "│ (\u001b[38;5;33mGemmaBackbone\u001b[0m)               │                           │                 │ token_ids[\u001b[38;5;34m0\u001b[0m][\u001b[38;5;34m0\u001b[0m]            │\n",
       "├───────────────────────────────┼───────────────────────────┼─────────────────┼────────────────────────────┤\n",
       "│ token_embedding               │ (\u001b[38;5;45mNone\u001b[0m, \u001b[38;5;45mNone\u001b[0m, \u001b[38;5;34m256000\u001b[0m)      │     \u001b[38;5;34m589,824,000\u001b[0m │ gemma_backbone[\u001b[38;5;34m0\u001b[0m][\u001b[38;5;34m0\u001b[0m]       │\n",
       "│ (\u001b[38;5;33mReversibleEmbedding\u001b[0m)         │                           │                 │                            │\n",
       "└───────────────────────────────┴───────────────────────────┴─────────────────┴────────────────────────────┘\n"
      ]
     },
     "metadata": {},
     "output_type": "display_data"
    },
    {
     "data": {
      "text/html": [
       "<pre style=\"white-space:pre;overflow-x:auto;line-height:normal;font-family:Menlo,'DejaVu Sans Mono',consolas,'Courier New',monospace\"><span style=\"font-weight: bold\"> Total params: </span><span style=\"color: #00af00; text-decoration-color: #00af00\">2,614,341,888</span> (9.74 GB)\n",
       "</pre>\n"
      ],
      "text/plain": [
       "\u001b[1m Total params: \u001b[0m\u001b[38;5;34m2,614,341,888\u001b[0m (9.74 GB)\n"
      ]
     },
     "metadata": {},
     "output_type": "display_data"
    },
    {
     "data": {
      "text/html": [
       "<pre style=\"white-space:pre;overflow-x:auto;line-height:normal;font-family:Menlo,'DejaVu Sans Mono',consolas,'Courier New',monospace\"><span style=\"font-weight: bold\"> Trainable params: </span><span style=\"color: #00af00; text-decoration-color: #00af00\">2,614,341,888</span> (9.74 GB)\n",
       "</pre>\n"
      ],
      "text/plain": [
       "\u001b[1m Trainable params: \u001b[0m\u001b[38;5;34m2,614,341,888\u001b[0m (9.74 GB)\n"
      ]
     },
     "metadata": {},
     "output_type": "display_data"
    },
    {
     "data": {
      "text/html": [
       "<pre style=\"white-space:pre;overflow-x:auto;line-height:normal;font-family:Menlo,'DejaVu Sans Mono',consolas,'Courier New',monospace\"><span style=\"font-weight: bold\"> Non-trainable params: </span><span style=\"color: #00af00; text-decoration-color: #00af00\">0</span> (0.00 B)\n",
       "</pre>\n"
      ],
      "text/plain": [
       "\u001b[1m Non-trainable params: \u001b[0m\u001b[38;5;34m0\u001b[0m (0.00 B)\n"
      ]
     },
     "metadata": {},
     "output_type": "display_data"
    },
    {
     "name": "stdout",
     "output_type": "stream",
     "text": [
      "\n",
      "Gemma output:\n",
      "<start_of_turn>user\n",
      " Matnni xulosala: Ma’lum qilinishicha, ijtimoy tarmoqlarda kulvor ilonni tiriklay yegan fuqaro haqida video tarqalgandi. Jizzax viloyati Ekologiya boshqarmasi Zomin tumani bo‘limi va IIB xodimlari hamkorligida bu borada o‘rganish ishlari olib borildi va holat fuqaro Q.H. tomonidan sodir etilgani aniqlandi.\n",
      "Fuqaro bu harakati bilan “Hayvonot dunyosini muhofaza qilish va undan foydalanish to‘g‘risida”gi qonunning 4, 30, 51, 53-moddalari talablarini buzgan.\n",
      "Davlat inspektorlari tomonidan unga nisbatan Ma’muriy javobgarlik to‘g‘risidagi kodeksning 90-moddasi (ov qilish va baliq ovlash qoidalarini, shuningdek hayvonot dunyosidan foydalanishning boshqa turlarini amalga oshirish qoidalarini buzish) 1-qismi bilan BHMning 20 baravari (7,5 million so‘m) miqdorida jarima qo‘llanildi.<end_of_turn>\n",
      "<start_of_turn>model\n",
      "This text describes a case of animal cruelty in Jizzax, Uzbekistan. Here's a breakdown:\n",
      "\n",
      "**Key Points:**\n",
      "\n",
      "* **The Incident:** A video depicting animal cruelty in Jizzax was circulated.\n",
      "* **Investigation:** The Jizzax Ekologiya boshqarmasi (Environmental Protection Agency) and IIB employees conducted an investigation.\n",
      "* **Identification:** The investigation confirmed that the incident involved a person, Q.H.\n",
      "* **Violation:** Q.H.'s actions violated several articles of the \"Animal Husbandry Code\" (specifically, articles 4, 30, 51, and 53).\n",
      "* **Legal Action:** The incident was investigated by the State Inspectorate.\n",
      "* **Sanctions:** The State Inspectorate applied sanctions under the \"Code of Administrative Responsibility\" (specifically, article 90, section 1) and the \"Law on Hunting and Fishing\" (specifically, article 20, section 7.5 million so'm).\n",
      "\n",
      "**\n",
      "TOTAL TIME ELAPSED: 20.91s\n"
     ]
    }
   ],
   "source": [
    "import keras\n",
    "import keras_nlp\n",
    "\n",
    "import time\n",
    "\n",
    "gemma_lm = keras_nlp.models.GemmaCausalLM.from_preset(model_id)\n",
    "gemma_lm.summary()\n",
    "\n",
    "tick_start = 0\n",
    "\n",
    "def tick():\n",
    "    global tick_start\n",
    "    tick_start = time.time()\n",
    "\n",
    "def tock():\n",
    "    print(f\"TOTAL TIME ELAPSED: {time.time() - tick_start:.2f}s\")\n",
    "\n",
    "def text_gen(prompt):\n",
    "    tick()\n",
    "    input = f\"<start_of_turn>user\\n{prompt}<end_of_turn>\\n<start_of_turn>model\\n\"\n",
    "    output = gemma_lm.generate(input, max_length=token_limit)\n",
    "    print(\"\\nGemma output:\")\n",
    "    print(output)\n",
    "    tock()\n",
    "\n",
    "# inference before fine-tuning\n",
    "text_gen(\"\"\" Matnni xulosala: Ma’lum qilinishicha, ijtimoy tarmoqlarda kulvor ilonni tiriklay yegan fuqaro haqida video tarqalgandi. Jizzax viloyati Ekologiya boshqarmasi Zomin tumani bo‘limi va IIB xodimlari hamkorligida bu borada o‘rganish ishlari olib borildi va holat fuqaro Q.H. tomonidan sodir etilgani aniqlandi.\n",
    "Fuqaro bu harakati bilan “Hayvonot dunyosini muhofaza qilish va undan foydalanish to‘g‘risida”gi qonunning 4, 30, 51, 53-moddalari talablarini buzgan.\n",
    "Davlat inspektorlari tomonidan unga nisbatan Ma’muriy javobgarlik to‘g‘risidagi kodeksning 90-moddasi (ov qilish va baliq ovlash qoidalarini, shuningdek hayvonot dunyosidan foydalanishning boshqa turlarini amalga oshirish qoidalarini buzish) 1-qismi bilan BHMning 20 baravari (7,5 million so‘m) miqdorida jarima qo‘llanildi.\"\"\")\n"
   ]
  },
  {
   "cell_type": "markdown",
   "id": "c7c6cf25-ebe2-4366-a09c-9ef9e3ee98a7",
   "metadata": {},
   "source": [
    "This section explains the process of preparing a dataset for fine-tuning the Gemma 2 model. It includes loading a JSON dataset, tokenizing text, generating prompts dynamically, and filtering data based on token length constraints to ensure compatibility with the model's input size limits."
   ]
  },
  {
   "cell_type": "code",
   "execution_count": 3,
   "id": "0c27b9da",
   "metadata": {
    "execution": {
     "iopub.execute_input": "2025-01-14T15:53:52.777780Z",
     "iopub.status.busy": "2025-01-14T15:53:52.777465Z",
     "iopub.status.idle": "2025-01-14T15:54:03.732823Z",
     "shell.execute_reply": "2025-01-14T15:54:03.731513Z"
    },
    "papermill": {
     "duration": 10.961207,
     "end_time": "2025-01-14T15:54:03.734809",
     "exception": false,
     "start_time": "2025-01-14T15:53:52.773602",
     "status": "completed"
    },
    "tags": []
   },
   "outputs": [
    {
     "data": {
      "application/vnd.jupyter.widget-view+json": {
       "model_id": "63257a8b8f504142bbec17f50042a26d",
       "version_major": 2,
       "version_minor": 0
      },
      "text/plain": [
       "Generating train split: 0 examples [00:00, ? examples/s]"
      ]
     },
     "metadata": {},
     "output_type": "display_data"
    },
    {
     "name": "stdout",
     "output_type": "stream",
     "text": [
      "Dataset({\n",
      "    features: ['name', 'topic', 'date', 'link', 'content'],\n",
      "    num_rows: 40837\n",
      "})\n",
      "100\n",
      "<start_of_turn>user\n",
      " matnni xulosala \n",
      " Markaziy bankning Bank nazorati qo‘mitasi o‘tgan yilning dekabr oyidagi yig‘ilishlarida 37 ta masalani ko‘rib chiqqan va tegishli qarorlar qabul qilgan. Bu haqda regulyator matbuot xizmati\n",
      "xabar berdi.\n",
      "Qayd etilishicha, yig‘ilishlar davomida kredit tashkilotlarining moliyaviy holatiga oid 10 ta masala – Markaziy bankning ko‘rsatmalari va prudensial me’yorlari talablarining bajarilishi hamda tijorat banklari, mikromoliya tashkiloti va to‘lov tashkilotlarida o‘tkazilgan o‘rganish va tekshirishlar natijalari ham muhokama qilingan.\n",
      "Tijorat banklari, mikromoliya tashkilotlari va to‘lov tashkilotlarida o‘tkazilgan o‘rganishlar natijasida aniqlangan kamchiliklar, jumladan, Markaziy bankning ko‘rsatmalari va prudensial me’yorlari talablariga, shuningdek, valuta va tashqi savdo operatsiyalarini amalga oshirishda qonunchilik talablariga rioya qilmagani uchun 9 ta bank, ikkita lombard va bitta mikromoliya tashkiloti chora hamda sanksiyalar qo‘llanilishi to‘g‘risida ogohlantirilgan.\n",
      "Shuningdek, amaldagi qonunchilik, Markaziy bank tomonidan o‘tkazilgan o‘rganish va inspeksiya tekshiruvlari davomida aniqlangan qoidabuzarliklar uchun bitta bank, bitta lombard va bitta mikromoliya tashkilotiga nisbatan jarima sanksiyasi qo‘llanilgan.\"<end_of_turn>\n",
      "<start_of_turn>model\n",
      "Markaziy bank 9 ta bankka ogohlantirish berdi va uchta moliya tashkilotini jarimaga tortdi<end_of_turn>\n",
      "<start_of_turn>user\n",
      " matnni qisqa tushuntirib ber \n",
      " Fransiyaning Strasburg shahri vokzali yaqinida ikkita tramvay bir-biri bilan to‘qnashib ketdi, deb\n",
      "xabar beradi\n",
      "BFM TV. Yong‘in-qutqaruv xizmatiga ko‘ra, ko‘ngilsiz hodisa Markaziy vokzal bekatida sodir bo‘lgan.\n",
      "Quyi Reyn prefekturasining ma’lum qilishicha, avariya Markaziy vokzal yaqinidagi bekatga eltuvchi tunnelda yuz bergan. Hodisa oqibatida 50 dan ortiq inson jarohat olgan. BFM’ning politsiyadagi manbalariga ko‘ra, to‘qnashuv yo‘nalish ko‘rsatkichini yoqishdagi xatolik sabab sodir bo‘lgan.\n",
      "Strasburg transport komissiyasi (Cs) to‘qnashuv tufayli tramvay tarmog‘i faoliyatida «uzilishlar» yuzaga kelgani, avtobuslar esa Markaziy vokzal hududiga endi kira olmayotgani to‘g‘risida ma’lumot berdi.\n",
      "2024 yil 25 dekabr kuni Parij—Lion yo‘nalishida harakatlanuvchi poyezdlar mashinistning harakatdagi poyezddan tushib ketishi oqibatida bir necha soatga to‘xtatilgan edi. Ish bilan shug‘ullangan Melyon prokuraturasining dastlabki taxminlariga ko‘ra, mashinist o‘z joniga qasd qilgan bo‘lishi mumkin.\"<end_of_turn>\n",
      "<start_of_turn>model\n",
      "Strasburg Markaziy vokzalida ikki tramvay to‘qnashib ketdi<end_of_turn>\n",
      "<start_of_turn>user\n",
      " matnni xulosalab ber \n",
      " Germaniya Sotsial-demokratik partiyasi (SPD) kansler Olaf Sholsni hukumat rahbari lavozimiga yangi muddatga nomzod sifatida rasman ma’qulladi.\n",
      "Die Welt\n",
      "xabariga ko‘ra, SPD qurultoyida Olaf Shols saylovoldi nutq bilan chiqdi. 600 nafar delegat uning nutqini 6 daqiqalik qarsaklar bilan qutladi. O‘z nutqida Shols Germaniya «yo‘llar kesishmasida» ekanini aytib, Ukrainadagi mojaro va o‘ng partiyalarning kuchayishini ham tilga oldi.\n",
      "Endi hukumat rahbari lavozimiga amaldagi kansler - sotsial-demokrat Olaf Sholsdan tashqari, Xristian-demokratik ittifoq (CDU) partiyasi raisi Fridrix Mers, Germaniya iqtisodiyot vaziri Robert Gabek (Yashillar partiyasi) va Germaniya uchun alternativa partiyasidan Bundestag deputati Alisa Vaydel da’vogarlik qilmoqda.\n",
      "So‘nggi so‘rov natijalariga ko‘ra, eng yuqori reyting CDU raisi Fridrix Mersga tegishli. Olaf Sholsning ham, hukmron koalitsiyaning ham mashhurligi keskin tushib ketganiga qaramay, bu uning yana nomzod sifatida ko‘rsatilishiga to‘sqinlik qilmadi.\n",
      "Germaniyada navbatdan tashqari parlament saylovi 23 fevral kuni bo‘lib o‘tadi.\"<end_of_turn>\n",
      "<start_of_turn>model\n",
      "Olaf Shols Germaniya kansleri lavozimiga nomzod bo‘ldi<end_of_turn>\n"
     ]
    }
   ],
   "source": [
    "import keras_nlp\n",
    "import datasets\n",
    "\n",
    "tokenizer = keras_nlp.models.GemmaTokenizer.from_preset(model_id)\n",
    "\n",
    "# Path to your JSON file\n",
    "json_file = \"/kaggle/input/gemma-2-training-1/kunuz_full_articles_2.json\"\n",
    "\n",
    "# Load the dataset\n",
    "ds = datasets.Dataset.from_json(json_file)\n",
    "\n",
    "print(ds)\n",
    "\n",
    "prompts = [\"ushbu matnni xulosala\", \"ushbu matnni xulosalab ber\", \"matnni xulosala\", \"matnni qisqa tushuntir\", \"matn nima haqida?\",\"bu matnga nom ber\", \"matnga sarlavha ber\", \"matnning xulosasini ber\",\n",
    "          \"matnga xulosa ber\", \"matnni xulosalab ber\", \"matnni xulosalay olasanmi?\", \"matnni qisqa tushuntirib ber\", \"matnning mazmuni nima?\", \"matnning qisqa mazmunini ayt\", \n",
    "          \"ushbu matnga qanday sarlavha berish mumkin?\"]\n",
    "import random\n",
    "\n",
    "data = ds.with_format(\"np\", columns=[ \"name\", \"content\"], output_all_columns=False)\n",
    "train = []\n",
    "\n",
    "for x in data:\n",
    "  prompt = random.choice(prompts)  \n",
    "  item = f\"<start_of_turn>user\\n {prompt} \\n {x['content']}\\\"<end_of_turn>\\n<start_of_turn>model\\n{x['name']}<end_of_turn>\"\n",
    "  length = len(tokenizer(item))\n",
    "  # skip data if the token length is longer than our limit\n",
    "  if length < token_limit:\n",
    "    train.append(item)\n",
    "    if(len(train)>=num_data_limit):\n",
    "      break\n",
    "\n",
    "print(len(train))\n",
    "print(train[0])\n",
    "print(train[1])\n",
    "print(train[2])"
   ]
  },
  {
   "cell_type": "markdown",
   "id": "42416eae-57af-4de4-9816-260146b2c91f",
   "metadata": {},
   "source": [
    "This section covers enabling LoRA (Low-Rank Adaptation) for the Gemma 2 model to improve fine-tuning efficiency. It also explains setting up the model's sequence length, configuring the AdamW optimizer, and compiling the model with appropriate loss and metrics for training."
   ]
  },
  {
   "cell_type": "code",
   "execution_count": 4,
   "id": "4f0429db",
   "metadata": {
    "execution": {
     "iopub.execute_input": "2025-01-14T15:54:03.742873Z",
     "iopub.status.busy": "2025-01-14T15:54:03.742585Z",
     "iopub.status.idle": "2025-01-14T15:54:04.137903Z",
     "shell.execute_reply": "2025-01-14T15:54:04.136921Z"
    },
    "papermill": {
     "duration": 0.400981,
     "end_time": "2025-01-14T15:54:04.139549",
     "exception": false,
     "start_time": "2025-01-14T15:54:03.738568",
     "status": "completed"
    },
    "tags": []
   },
   "outputs": [
    {
     "data": {
      "text/html": [
       "<pre style=\"white-space:pre;overflow-x:auto;line-height:normal;font-family:Menlo,'DejaVu Sans Mono',consolas,'Courier New',monospace\"><span style=\"font-weight: bold\">Preprocessor: \"gemma_causal_lm_preprocessor\"</span>\n",
       "</pre>\n"
      ],
      "text/plain": [
       "\u001b[1mPreprocessor: \"gemma_causal_lm_preprocessor\"\u001b[0m\n"
      ]
     },
     "metadata": {},
     "output_type": "display_data"
    },
    {
     "data": {
      "text/html": [
       "<pre style=\"white-space:pre;overflow-x:auto;line-height:normal;font-family:Menlo,'DejaVu Sans Mono',consolas,'Courier New',monospace\">┏━━━━━━━━━━━━━━━━━━━━━━━━━━━━━━━━━━━━━━━━━━━━━━━━━━━━━━━━━━━━━━━┳━━━━━━━━━━━━━━━━━━━━━━━━━━━━━━━━━━━━━━━━━━┓\n",
       "┃<span style=\"font-weight: bold\"> Layer (type)                                                  </span>┃<span style=\"font-weight: bold\">                                   Config </span>┃\n",
       "┡━━━━━━━━━━━━━━━━━━━━━━━━━━━━━━━━━━━━━━━━━━━━━━━━━━━━━━━━━━━━━━━╇━━━━━━━━━━━━━━━━━━━━━━━━━━━━━━━━━━━━━━━━━━┩\n",
       "│ gemma_tokenizer (<span style=\"color: #0087ff; text-decoration-color: #0087ff\">GemmaTokenizer</span>)                              │                      Vocab size: <span style=\"color: #00af00; text-decoration-color: #00af00\">256,000</span> │\n",
       "└───────────────────────────────────────────────────────────────┴──────────────────────────────────────────┘\n",
       "</pre>\n"
      ],
      "text/plain": [
       "┏━━━━━━━━━━━━━━━━━━━━━━━━━━━━━━━━━━━━━━━━━━━━━━━━━━━━━━━━━━━━━━━┳━━━━━━━━━━━━━━━━━━━━━━━━━━━━━━━━━━━━━━━━━━┓\n",
       "┃\u001b[1m \u001b[0m\u001b[1mLayer (type)                                                 \u001b[0m\u001b[1m \u001b[0m┃\u001b[1m \u001b[0m\u001b[1m                                  Config\u001b[0m\u001b[1m \u001b[0m┃\n",
       "┡━━━━━━━━━━━━━━━━━━━━━━━━━━━━━━━━━━━━━━━━━━━━━━━━━━━━━━━━━━━━━━━╇━━━━━━━━━━━━━━━━━━━━━━━━━━━━━━━━━━━━━━━━━━┩\n",
       "│ gemma_tokenizer (\u001b[38;5;33mGemmaTokenizer\u001b[0m)                              │                      Vocab size: \u001b[38;5;34m256,000\u001b[0m │\n",
       "└───────────────────────────────────────────────────────────────┴──────────────────────────────────────────┘\n"
      ]
     },
     "metadata": {},
     "output_type": "display_data"
    },
    {
     "data": {
      "text/html": [
       "<pre style=\"white-space:pre;overflow-x:auto;line-height:normal;font-family:Menlo,'DejaVu Sans Mono',consolas,'Courier New',monospace\"><span style=\"font-weight: bold\">Model: \"gemma_causal_lm\"</span>\n",
       "</pre>\n"
      ],
      "text/plain": [
       "\u001b[1mModel: \"gemma_causal_lm\"\u001b[0m\n"
      ]
     },
     "metadata": {},
     "output_type": "display_data"
    },
    {
     "data": {
      "text/html": [
       "<pre style=\"white-space:pre;overflow-x:auto;line-height:normal;font-family:Menlo,'DejaVu Sans Mono',consolas,'Courier New',monospace\">┏━━━━━━━━━━━━━━━━━━━━━━━━━━━━━━━┳━━━━━━━━━━━━━━━━━━━━━━━━━━━┳━━━━━━━━━━━━━━━━━┳━━━━━━━━━━━━━━━━━━━━━━━━━━━━┓\n",
       "┃<span style=\"font-weight: bold\"> Layer (type)                  </span>┃<span style=\"font-weight: bold\"> Output Shape              </span>┃<span style=\"font-weight: bold\">         Param # </span>┃<span style=\"font-weight: bold\"> Connected to               </span>┃\n",
       "┡━━━━━━━━━━━━━━━━━━━━━━━━━━━━━━━╇━━━━━━━━━━━━━━━━━━━━━━━━━━━╇━━━━━━━━━━━━━━━━━╇━━━━━━━━━━━━━━━━━━━━━━━━━━━━┩\n",
       "│ padding_mask (<span style=\"color: #0087ff; text-decoration-color: #0087ff\">InputLayer</span>)     │ (<span style=\"color: #00d7ff; text-decoration-color: #00d7ff\">None</span>, <span style=\"color: #00d7ff; text-decoration-color: #00d7ff\">None</span>)              │               <span style=\"color: #00af00; text-decoration-color: #00af00\">0</span> │ -                          │\n",
       "├───────────────────────────────┼───────────────────────────┼─────────────────┼────────────────────────────┤\n",
       "│ token_ids (<span style=\"color: #0087ff; text-decoration-color: #0087ff\">InputLayer</span>)        │ (<span style=\"color: #00d7ff; text-decoration-color: #00d7ff\">None</span>, <span style=\"color: #00d7ff; text-decoration-color: #00d7ff\">None</span>)              │               <span style=\"color: #00af00; text-decoration-color: #00af00\">0</span> │ -                          │\n",
       "├───────────────────────────────┼───────────────────────────┼─────────────────┼────────────────────────────┤\n",
       "│ gemma_backbone                │ (<span style=\"color: #00d7ff; text-decoration-color: #00d7ff\">None</span>, <span style=\"color: #00d7ff; text-decoration-color: #00d7ff\">None</span>, <span style=\"color: #00af00; text-decoration-color: #00af00\">2304</span>)        │   <span style=\"color: #00af00; text-decoration-color: #00af00\">2,617,270,528</span> │ padding_mask[<span style=\"color: #00af00; text-decoration-color: #00af00\">0</span>][<span style=\"color: #00af00; text-decoration-color: #00af00\">0</span>],        │\n",
       "│ (<span style=\"color: #0087ff; text-decoration-color: #0087ff\">GemmaBackbone</span>)               │                           │                 │ token_ids[<span style=\"color: #00af00; text-decoration-color: #00af00\">0</span>][<span style=\"color: #00af00; text-decoration-color: #00af00\">0</span>]            │\n",
       "├───────────────────────────────┼───────────────────────────┼─────────────────┼────────────────────────────┤\n",
       "│ token_embedding               │ (<span style=\"color: #00d7ff; text-decoration-color: #00d7ff\">None</span>, <span style=\"color: #00d7ff; text-decoration-color: #00d7ff\">None</span>, <span style=\"color: #00af00; text-decoration-color: #00af00\">256000</span>)      │     <span style=\"color: #00af00; text-decoration-color: #00af00\">589,824,000</span> │ gemma_backbone[<span style=\"color: #00af00; text-decoration-color: #00af00\">0</span>][<span style=\"color: #00af00; text-decoration-color: #00af00\">0</span>]       │\n",
       "│ (<span style=\"color: #0087ff; text-decoration-color: #0087ff\">ReversibleEmbedding</span>)         │                           │                 │                            │\n",
       "└───────────────────────────────┴───────────────────────────┴─────────────────┴────────────────────────────┘\n",
       "</pre>\n"
      ],
      "text/plain": [
       "┏━━━━━━━━━━━━━━━━━━━━━━━━━━━━━━━┳━━━━━━━━━━━━━━━━━━━━━━━━━━━┳━━━━━━━━━━━━━━━━━┳━━━━━━━━━━━━━━━━━━━━━━━━━━━━┓\n",
       "┃\u001b[1m \u001b[0m\u001b[1mLayer (type)                 \u001b[0m\u001b[1m \u001b[0m┃\u001b[1m \u001b[0m\u001b[1mOutput Shape             \u001b[0m\u001b[1m \u001b[0m┃\u001b[1m \u001b[0m\u001b[1m        Param #\u001b[0m\u001b[1m \u001b[0m┃\u001b[1m \u001b[0m\u001b[1mConnected to              \u001b[0m\u001b[1m \u001b[0m┃\n",
       "┡━━━━━━━━━━━━━━━━━━━━━━━━━━━━━━━╇━━━━━━━━━━━━━━━━━━━━━━━━━━━╇━━━━━━━━━━━━━━━━━╇━━━━━━━━━━━━━━━━━━━━━━━━━━━━┩\n",
       "│ padding_mask (\u001b[38;5;33mInputLayer\u001b[0m)     │ (\u001b[38;5;45mNone\u001b[0m, \u001b[38;5;45mNone\u001b[0m)              │               \u001b[38;5;34m0\u001b[0m │ -                          │\n",
       "├───────────────────────────────┼───────────────────────────┼─────────────────┼────────────────────────────┤\n",
       "│ token_ids (\u001b[38;5;33mInputLayer\u001b[0m)        │ (\u001b[38;5;45mNone\u001b[0m, \u001b[38;5;45mNone\u001b[0m)              │               \u001b[38;5;34m0\u001b[0m │ -                          │\n",
       "├───────────────────────────────┼───────────────────────────┼─────────────────┼────────────────────────────┤\n",
       "│ gemma_backbone                │ (\u001b[38;5;45mNone\u001b[0m, \u001b[38;5;45mNone\u001b[0m, \u001b[38;5;34m2304\u001b[0m)        │   \u001b[38;5;34m2,617,270,528\u001b[0m │ padding_mask[\u001b[38;5;34m0\u001b[0m][\u001b[38;5;34m0\u001b[0m],        │\n",
       "│ (\u001b[38;5;33mGemmaBackbone\u001b[0m)               │                           │                 │ token_ids[\u001b[38;5;34m0\u001b[0m][\u001b[38;5;34m0\u001b[0m]            │\n",
       "├───────────────────────────────┼───────────────────────────┼─────────────────┼────────────────────────────┤\n",
       "│ token_embedding               │ (\u001b[38;5;45mNone\u001b[0m, \u001b[38;5;45mNone\u001b[0m, \u001b[38;5;34m256000\u001b[0m)      │     \u001b[38;5;34m589,824,000\u001b[0m │ gemma_backbone[\u001b[38;5;34m0\u001b[0m][\u001b[38;5;34m0\u001b[0m]       │\n",
       "│ (\u001b[38;5;33mReversibleEmbedding\u001b[0m)         │                           │                 │                            │\n",
       "└───────────────────────────────┴───────────────────────────┴─────────────────┴────────────────────────────┘\n"
      ]
     },
     "metadata": {},
     "output_type": "display_data"
    },
    {
     "data": {
      "text/html": [
       "<pre style=\"white-space:pre;overflow-x:auto;line-height:normal;font-family:Menlo,'DejaVu Sans Mono',consolas,'Courier New',monospace\"><span style=\"font-weight: bold\"> Total params: </span><span style=\"color: #00af00; text-decoration-color: #00af00\">2,617,270,528</span> (9.75 GB)\n",
       "</pre>\n"
      ],
      "text/plain": [
       "\u001b[1m Total params: \u001b[0m\u001b[38;5;34m2,617,270,528\u001b[0m (9.75 GB)\n"
      ]
     },
     "metadata": {},
     "output_type": "display_data"
    },
    {
     "data": {
      "text/html": [
       "<pre style=\"white-space:pre;overflow-x:auto;line-height:normal;font-family:Menlo,'DejaVu Sans Mono',consolas,'Courier New',monospace\"><span style=\"font-weight: bold\"> Trainable params: </span><span style=\"color: #00af00; text-decoration-color: #00af00\">2,928,640</span> (11.17 MB)\n",
       "</pre>\n"
      ],
      "text/plain": [
       "\u001b[1m Trainable params: \u001b[0m\u001b[38;5;34m2,928,640\u001b[0m (11.17 MB)\n"
      ]
     },
     "metadata": {},
     "output_type": "display_data"
    },
    {
     "data": {
      "text/html": [
       "<pre style=\"white-space:pre;overflow-x:auto;line-height:normal;font-family:Menlo,'DejaVu Sans Mono',consolas,'Courier New',monospace\"><span style=\"font-weight: bold\"> Non-trainable params: </span><span style=\"color: #00af00; text-decoration-color: #00af00\">2,614,341,888</span> (9.74 GB)\n",
       "</pre>\n"
      ],
      "text/plain": [
       "\u001b[1m Non-trainable params: \u001b[0m\u001b[38;5;34m2,614,341,888\u001b[0m (9.74 GB)\n"
      ]
     },
     "metadata": {},
     "output_type": "display_data"
    }
   ],
   "source": [
    "# Enable LoRA for the model and set the LoRA rank to 4.\n",
    "gemma_lm.backbone.enable_lora(rank=lora_rank)\n",
    "gemma_lm.summary()\n",
    "\n",
    "# Limit the input sequence length (to control memory usage).\n",
    "gemma_lm.preprocessor.sequence_length = token_limit\n",
    "# Use AdamW (a common optimizer for transformer models).\n",
    "optimizer = keras.optimizers.AdamW(\n",
    "    learning_rate=lr_value,\n",
    "    weight_decay=0.01,\n",
    ")\n",
    "# Exclude layernorm and bias terms from decay.\n",
    "optimizer.exclude_from_weight_decay(var_names=[\"bias\", \"scale\"])\n",
    "\n",
    "gemma_lm.compile(\n",
    "    loss=keras.losses.SparseCategoricalCrossentropy(from_logits=True),\n",
    "    optimizer=optimizer,\n",
    "    weighted_metrics=[keras.metrics.SparseCategoricalAccuracy()],\n",
    ")"
   ]
  },
  {
   "cell_type": "markdown",
   "id": "bbd3e123-91f9-4732-b389-e1012209b330",
   "metadata": {},
   "source": [
    "This section describes the training process for the Gemma 2 model, which includes implementing a custom callback to save LoRA weights at the end of each epoch and evaluating the model's performance. Additionally, it outlines tracking the training loss over epochs using a graphical visualization for better insights."
   ]
  },
  {
   "cell_type": "code",
   "execution_count": 5,
   "id": "7efae891",
   "metadata": {
    "execution": {
     "iopub.execute_input": "2025-01-14T15:54:04.149153Z",
     "iopub.status.busy": "2025-01-14T15:54:04.148893Z",
     "iopub.status.idle": "2025-01-14T16:23:40.815267Z",
     "shell.execute_reply": "2025-01-14T16:23:40.814503Z"
    },
    "papermill": {
     "duration": 1776.672956,
     "end_time": "2025-01-14T16:23:40.816808",
     "exception": false,
     "start_time": "2025-01-14T15:54:04.143852",
     "status": "completed"
    },
    "tags": []
   },
   "outputs": [
    {
     "name": "stdout",
     "output_type": "stream",
     "text": [
      "Epoch 1/20\n",
      "\u001b[1m100/100\u001b[0m \u001b[32m━━━━━━━━━━━━━━━━━━━━\u001b[0m\u001b[37m\u001b[0m \u001b[1m0s\u001b[0m 971ms/step - loss: 2.4892 - sparse_categorical_accuracy: 0.4656\n",
      "Gemma output:\n",
      "<start_of_turn>user\n",
      "Ushbu matnni xulosala: \n",
      "\n",
      "Ma’lum qilinishicha, ijtimoy tarmoqlarda kulvor ilonni tiriklay yegan fuqaro haqida video tarqalgandi. Jizzax viloyati Ekologiya boshqarmasi Zomin tumani bo‘limi va IIB xodimlari hamkorligida bu borada o‘rganish ishlari olib borildi va holat fuqaro Q.H. tomonidan sodir etilgani aniqlandi.\n",
      "Fuqaro bu harakati bilan “Hayvonot dunyosini muhofaza qilish va undan foydalanish to‘g‘risida”gi qonunning 4, 30, 51, 53-moddalari talablarini buzgan.\n",
      "Davlat inspektorlari tomonidan unga nisbatan Ma’muriy javobgarlik to‘g‘risidagi kodeksning 90-moddasi (ov qilish va baliq ovlash qoidalarini, shuningdek hayvonot dunyosidan foydalanishning boshqa turlarini amalga oshirish qoidalarini buzish) 1-qismi bilan BHMning 20 baravari (7,5 million so‘m) miqdorida jarima qo‘llanildi.<end_of_turn>\n",
      "<start_of_turn>model\n",
      "Jizzax viloyati Ekologiya boshqarmasi Zomin tumani bo‘limi va IIB xodimlari hamkorligida bu borada o‘rganish ishlari olib borildi va holat fuqaro Q.H. tomonidan sodir etilgani aniqlandi.\n",
      "Fuqaro bu harakati bilan “Hayvonot dunyosini muhofaza qilish va undan foydalanish to‘g‘risida”gi qonunning 4, 30, 51, 53-moddalari talablarini buzgan.\n",
      "Davlat inspektorlari tomonidan unga nisbatan Ma’muriy javobgarlik to‘g‘risidagi kodeksning 90-moddasi (ov qilish va baliq ovlash qoidalarini, shuningdek hayvonot dunyosidan foydalanishning boshqa turlarini amal\n",
      "TOTAL TIME ELAPSED: 21.44s\n",
      "\u001b[1m100/100\u001b[0m \u001b[32m━━━━━━━━━━━━━━━━━━━━\u001b[0m\u001b[37m\u001b[0m \u001b[1m148s\u001b[0m 1s/step - loss: 2.4874 - sparse_categorical_accuracy: 0.4657 \n",
      "Epoch 2/20\n",
      "\u001b[1m 99/100\u001b[0m \u001b[32m━━━━━━━━━━━━━━━━━━━\u001b[0m\u001b[37m━\u001b[0m \u001b[1m0s\u001b[0m 814ms/step - loss: 2.0527 - sparse_categorical_accuracy: 0.5122\n",
      "Gemma output:\n",
      "<start_of_turn>user\n",
      "Ushbu matnni xulosala: \n",
      "\n",
      "Ma’lum qilinishicha, ijtimoy tarmoqlarda kulvor ilonni tiriklay yegan fuqaro haqida video tarqalgandi. Jizzax viloyati Ekologiya boshqarmasi Zomin tumani bo‘limi va IIB xodimlari hamkorligida bu borada o‘rganish ishlari olib borildi va holat fuqaro Q.H. tomonidan sodir etilgani aniqlandi.\n",
      "Fuqaro bu harakati bilan “Hayvonot dunyosini muhofaza qilish va undan foydalanish to‘g‘risida”gi qonunning 4, 30, 51, 53-moddalari talablarini buzgan.\n",
      "Davlat inspektorlari tomonidan unga nisbatan Ma’muriy javobgarlik to‘g‘risidagi kodeksning 90-moddasi (ov qilish va baliq ovlash qoidalarini, shuningdek hayvonot dunyosidan foydalanishning boshqa turlarini amalga oshirish qoidalarini buzish) 1-qismi bilan BHMning 20 baravari (7,5 million so‘m) miqdorida jarima qo‘llanildi.<end_of_turn>\n",
      "<start_of_turn>model\n",
      "Fuqaro Q.H. Ekologiya boshqarmasining Zomin tumani bo‘limi va IIB xodimlari hamkorligida bu borada o‘rganish ishlari olib borildi.\n",
      "Fuqaro bu harakati bilan “Hayvonot dunyosini muhofaza qilish va undan foydalanish to‘g‘risida”gi qonunning 4, 30, 51, 53-moddalari talablarini buzgan.\n",
      "Davlat inspektorlari tomonidan unga nisbatan Ma’muriy javobgarlik to‘g‘risidagi kodeksning 90-moddasi (ov qilish va baliq ovlash qoidalarini, shuningdek hayvonot dunyosidan foydalanishning boshqa turlarini amalga oshirish qoidalarini buzish) 1-qismi bilan\n",
      "TOTAL TIME ELAPSED: 8.40s\n",
      "\u001b[1m100/100\u001b[0m \u001b[32m━━━━━━━━━━━━━━━━━━━━\u001b[0m\u001b[37m\u001b[0m \u001b[1m106s\u001b[0m 892ms/step - loss: 2.0520 - sparse_categorical_accuracy: 0.5123\n",
      "Epoch 3/20\n",
      "\u001b[1m 99/100\u001b[0m \u001b[32m━━━━━━━━━━━━━━━━━━━\u001b[0m\u001b[37m━\u001b[0m \u001b[1m0s\u001b[0m 798ms/step - loss: 1.8912 - sparse_categorical_accuracy: 0.5394\n",
      "Gemma output:\n",
      "<start_of_turn>user\n",
      "Ushbu matnni xulosala: \n",
      "\n",
      "Ma’lum qilinishicha, ijtimoy tarmoqlarda kulvor ilonni tiriklay yegan fuqaro haqida video tarqalgandi. Jizzax viloyati Ekologiya boshqarmasi Zomin tumani bo‘limi va IIB xodimlari hamkorligida bu borada o‘rganish ishlari olib borildi va holat fuqaro Q.H. tomonidan sodir etilgani aniqlandi.\n",
      "Fuqaro bu harakati bilan “Hayvonot dunyosini muhofaza qilish va undan foydalanish to‘g‘risida”gi qonunning 4, 30, 51, 53-moddalari talablarini buzgan.\n",
      "Davlat inspektorlari tomonidan unga nisbatan Ma’muriy javobgarlik to‘g‘risidagi kodeksning 90-moddasi (ov qilish va baliq ovlash qoidalarini, shuningdek hayvonot dunyosidan foydalanishning boshqa turlarini amalga oshirish qoidalarini buzish) 1-qismi bilan BHMning 20 baravari (7,5 million so‘m) miqdorida jarima qo‘llanildi.<end_of_turn>\n",
      "<start_of_turn>model\n",
      "Fuqaro Q.H. bu harakati bilan “Hayvonot dunyosini muhofaza qilish va undan foydalanish to‘g‘risida”gi qonunning 4, 30, 51, 53-moddalari talablarini buzgan.\n",
      "Davlat inspektorlari tomonidan unga nisbatan Ma’muriy javobgarlik to‘g‘risidagi kodeksning 90-moddasi (ov qilish va baliq ovlash qoidalarini, shuningdek hayvonot dunyosidan foydalanishning boshqa turlarini amalga oshirish qoidalarini buzish) 1-qismi bilan BHMning 20 baravari (7,5 million so‘m) miqdorida jarima qo‘llanildi.<end_of_turn>\n",
      "TOTAL TIME ELAPSED: 7.75s\n",
      "\u001b[1m100/100\u001b[0m \u001b[32m━━━━━━━━━━━━━━━━━━━━\u001b[0m\u001b[37m\u001b[0m \u001b[1m89s\u001b[0m 869ms/step - loss: 1.8908 - sparse_categorical_accuracy: 0.5394\n",
      "Epoch 4/20\n",
      "\u001b[1m100/100\u001b[0m \u001b[32m━━━━━━━━━━━━━━━━━━━━\u001b[0m\u001b[37m\u001b[0m \u001b[1m0s\u001b[0m 790ms/step - loss: 1.7962 - sparse_categorical_accuracy: 0.5588\n",
      "Gemma output:\n",
      "<start_of_turn>user\n",
      "Ushbu matnni xulosala: \n",
      "\n",
      "Ma’lum qilinishicha, ijtimoy tarmoqlarda kulvor ilonni tiriklay yegan fuqaro haqida video tarqalgandi. Jizzax viloyati Ekologiya boshqarmasi Zomin tumani bo‘limi va IIB xodimlari hamkorligida bu borada o‘rganish ishlari olib borildi va holat fuqaro Q.H. tomonidan sodir etilgani aniqlandi.\n",
      "Fuqaro bu harakati bilan “Hayvonot dunyosini muhofaza qilish va undan foydalanish to‘g‘risida”gi qonunning 4, 30, 51, 53-moddalari talablarini buzgan.\n",
      "Davlat inspektorlari tomonidan unga nisbatan Ma’muriy javobgarlik to‘g‘risidagi kodeksning 90-moddasi (ov qilish va baliq ovlash qoidalarini, shuningdek hayvonot dunyosidan foydalanishning boshqa turlarini amalga oshirish qoidalarini buzish) 1-qismi bilan BHMning 20 baravari (7,5 million so‘m) miqdorida jarima qo‘llanildi.<end_of_turn>\n",
      "<start_of_turn>model\n",
      "Fuqaro Q.H. bu harakati bilan “Hayvonot dunyosini muhofaza qilish va undan foydalanish to‘g‘risida”gi qonunning 4, 30, 51, 53-moddalari talablarini buzgan.\n",
      "Davlat inspektorlari tomonidan unga nisbatan Ma’muriy javobgarlik to‘g‘risidagi kodeksning 90-moddasi (ov qilish va baliq ovlash qoidalarini, shuningdek hayvonot dunyosidan foydalanishning boshqa turlarini amalga oshirish qoidalarini buzish) 1-qismi bilan BHMning 20 baravari (7,5 million so‘m) miqdorida jarima qo‘llanildi.<end_of_turn>\n",
      "TOTAL TIME ELAPSED: 7.75s\n",
      "\u001b[1m100/100\u001b[0m \u001b[32m━━━━━━━━━━━━━━━━━━━━\u001b[0m\u001b[37m\u001b[0m \u001b[1m89s\u001b[0m 869ms/step - loss: 1.7957 - sparse_categorical_accuracy: 0.5588\n",
      "Epoch 5/20\n",
      "\u001b[1m 99/100\u001b[0m \u001b[32m━━━━━━━━━━━━━━━━━━━\u001b[0m\u001b[37m━\u001b[0m \u001b[1m0s\u001b[0m 798ms/step - loss: 1.6978 - sparse_categorical_accuracy: 0.5748\n",
      "Gemma output:\n",
      "<start_of_turn>user\n",
      "Ushbu matnni xulosala: \n",
      "\n",
      "Ma’lum qilinishicha, ijtimoy tarmoqlarda kulvor ilonni tiriklay yegan fuqaro haqida video tarqalgandi. Jizzax viloyati Ekologiya boshqarmasi Zomin tumani bo‘limi va IIB xodimlari hamkorligida bu borada o‘rganish ishlari olib borildi va holat fuqaro Q.H. tomonidan sodir etilgani aniqlandi.\n",
      "Fuqaro bu harakati bilan “Hayvonot dunyosini muhofaza qilish va undan foydalanish to‘g‘risida”gi qonunning 4, 30, 51, 53-moddalari talablarini buzgan.\n",
      "Davlat inspektorlari tomonidan unga nisbatan Ma’muriy javobgarlik to‘g‘risidagi kodeksning 90-moddasi (ov qilish va baliq ovlash qoidalarini, shuningdek hayvonot dunyosidan foydalanishning boshqa turlarini amalga oshirish qoidalarini buzish) 1-qismi bilan BHMning 20 baravari (7,5 million so‘m) miqdorida jarima qo‘llanildi.<end_of_turn>\n",
      "<start_of_turn>model\n",
      "Fuqaro Q.H. bu harakati bilan “Hayvonot dunyosini muhofaza qilish va undan foydalanish to‘g‘risida”gi qonunning 4, 30, 51, 53-moddalari talablarini buzgan.\n",
      "Davlat inspektorlari tomonidan unga nisbatan Ma’muriy javobgarlik to‘g‘risidagi kodeksning 90-moddasi (ov qilish va baliq ovlash qoidalarini, shuningdek hayvonot dunyosidan foydalanishning boshqa turlarini amalga oshirish qoidalarini buzish) 1-qismi bilan BHMning 20 baravari (7,5 million so‘m) miqdorida jarima qo‘llanildi.<end_of_turn>\n",
      "TOTAL TIME ELAPSED: 7.75s\n",
      "\u001b[1m100/100\u001b[0m \u001b[32m━━━━━━━━━━━━━━━━━━━━\u001b[0m\u001b[37m\u001b[0m \u001b[1m89s\u001b[0m 869ms/step - loss: 1.6970 - sparse_categorical_accuracy: 0.5749\n",
      "Epoch 6/20\n",
      "\u001b[1m 99/100\u001b[0m \u001b[32m━━━━━━━━━━━━━━━━━━━\u001b[0m\u001b[37m━\u001b[0m \u001b[1m0s\u001b[0m 798ms/step - loss: 1.6070 - sparse_categorical_accuracy: 0.5935\n",
      "Gemma output:\n",
      "<start_of_turn>user\n",
      "Ushbu matnni xulosala: \n",
      "\n",
      "Ma’lum qilinishicha, ijtimoy tarmoqlarda kulvor ilonni tiriklay yegan fuqaro haqida video tarqalgandi. Jizzax viloyati Ekologiya boshqarmasi Zomin tumani bo‘limi va IIB xodimlari hamkorligida bu borada o‘rganish ishlari olib borildi va holat fuqaro Q.H. tomonidan sodir etilgani aniqlandi.\n",
      "Fuqaro bu harakati bilan “Hayvonot dunyosini muhofaza qilish va undan foydalanish to‘g‘risida”gi qonunning 4, 30, 51, 53-moddalari talablarini buzgan.\n",
      "Davlat inspektorlari tomonidan unga nisbatan Ma’muriy javobgarlik to‘g‘risidagi kodeksning 90-moddasi (ov qilish va baliq ovlash qoidalarini, shuningdek hayvonot dunyosidan foydalanishning boshqa turlarini amalga oshirish qoidalarini buzish) 1-qismi bilan BHMning 20 baravari (7,5 million so‘m) miqdorida jarima qo‘llanildi.<end_of_turn>\n",
      "<start_of_turn>model\n",
      "Fuqaro Q.H. bu harakati bilan hayvonot dunyosini muhofaza qilish qoidalarini buzgan. Davlat inspektorlari tomonidan unga nisbatan jarima qo‘llanildi<end_of_turn>\n",
      "TOTAL TIME ELAPSED: 2.32s\n",
      "\u001b[1m100/100\u001b[0m \u001b[32m━━━━━━━━━━━━━━━━━━━━\u001b[0m\u001b[37m\u001b[0m \u001b[1m83s\u001b[0m 814ms/step - loss: 1.6063 - sparse_categorical_accuracy: 0.5936\n",
      "Epoch 7/20\n",
      "\u001b[1m 99/100\u001b[0m \u001b[32m━━━━━━━━━━━━━━━━━━━\u001b[0m\u001b[37m━\u001b[0m \u001b[1m0s\u001b[0m 798ms/step - loss: 1.5215 - sparse_categorical_accuracy: 0.6102\n",
      "Gemma output:\n",
      "<start_of_turn>user\n",
      "Ushbu matnni xulosala: \n",
      "\n",
      "Ma’lum qilinishicha, ijtimoy tarmoqlarda kulvor ilonni tiriklay yegan fuqaro haqida video tarqalgandi. Jizzax viloyati Ekologiya boshqarmasi Zomin tumani bo‘limi va IIB xodimlari hamkorligida bu borada o‘rganish ishlari olib borildi va holat fuqaro Q.H. tomonidan sodir etilgani aniqlandi.\n",
      "Fuqaro bu harakati bilan “Hayvonot dunyosini muhofaza qilish va undan foydalanish to‘g‘risida”gi qonunning 4, 30, 51, 53-moddalari talablarini buzgan.\n",
      "Davlat inspektorlari tomonidan unga nisbatan Ma’muriy javobgarlik to‘g‘risidagi kodeksning 90-moddasi (ov qilish va baliq ovlash qoidalarini, shuningdek hayvonot dunyosidan foydalanishning boshqa turlarini amalga oshirish qoidalarini buzish) 1-qismi bilan BHMning 20 baravari (7,5 million so‘m) miqdorida jarima qo‘llanildi.<end_of_turn>\n",
      "<start_of_turn>model\n",
      "Jizzax viloyati Ekologiya boshqarmasi Q.H. tomonidan olingan hayvonot dunyosidan foydalanish qoidalarini buzgan 7,5 million so‘m jarima qo‘lfandi.<end_of_turn>\n",
      "TOTAL TIME ELAPSED: 2.56s\n",
      "\u001b[1m100/100\u001b[0m \u001b[32m━━━━━━━━━━━━━━━━━━━━\u001b[0m\u001b[37m\u001b[0m \u001b[1m83s\u001b[0m 816ms/step - loss: 1.5211 - sparse_categorical_accuracy: 0.6103\n",
      "Epoch 8/20\n",
      "\u001b[1m 99/100\u001b[0m \u001b[32m━━━━━━━━━━━━━━━━━━━\u001b[0m\u001b[37m━\u001b[0m \u001b[1m0s\u001b[0m 798ms/step - loss: 1.4330 - sparse_categorical_accuracy: 0.6330\n",
      "Gemma output:\n",
      "<start_of_turn>user\n",
      "Ushbu matnni xulosala: \n",
      "\n",
      "Ma’lum qilinishicha, ijtimoy tarmoqlarda kulvor ilonni tiriklay yegan fuqaro haqida video tarqalgandi. Jizzax viloyati Ekologiya boshqarmasi Zomin tumani bo‘limi va IIB xodimlari hamkorligida bu borada o‘rganish ishlari olib borildi va holat fuqaro Q.H. tomonidan sodir etilgani aniqlandi.\n",
      "Fuqaro bu harakati bilan “Hayvonot dunyosini muhofaza qilish va undan foydalanish to‘g‘risida”gi qonunning 4, 30, 51, 53-moddalari talablarini buzgan.\n",
      "Davlat inspektorlari tomonidan unga nisbatan Ma’muriy javobgarlik to‘g‘risidagi kodeksning 90-moddasi (ov qilish va baliq ovlash qoidalarini, shuningdek hayvonot dunyosidan foydalanishning boshqa turlarini amalga oshirish qoidalarini buzish) 1-qismi bilan BHMning 20 baravari (7,5 million so‘m) miqdorida jarima qo‘llanildi.<end_of_turn>\n",
      "<start_of_turn>model\n",
      "Jizzax viloyati Ekologiya boshqarmasi Q.H. tomonidan olingan hayvonot dunyosidan foydalanish qoidalarini buzgan 7,5 million so‘m jarimaga qo‘ydi<end_of_turn>\n",
      "TOTAL TIME ELAPSED: 2.48s\n",
      "\u001b[1m100/100\u001b[0m \u001b[32m━━━━━━━━━━━━━━━━━━━━\u001b[0m\u001b[37m\u001b[0m \u001b[1m83s\u001b[0m 816ms/step - loss: 1.4322 - sparse_categorical_accuracy: 0.6331\n",
      "Epoch 9/20\n",
      "\u001b[1m 99/100\u001b[0m \u001b[32m━━━━━━━━━━━━━━━━━━━\u001b[0m\u001b[37m━\u001b[0m \u001b[1m0s\u001b[0m 798ms/step - loss: 1.3354 - sparse_categorical_accuracy: 0.6558\n",
      "Gemma output:\n",
      "<start_of_turn>user\n",
      "Ushbu matnni xulosala: \n",
      "\n",
      "Ma’lum qilinishicha, ijtimoy tarmoqlarda kulvor ilonni tiriklay yegan fuqaro haqida video tarqalgandi. Jizzax viloyati Ekologiya boshqarmasi Zomin tumani bo‘limi va IIB xodimlari hamkorligida bu borada o‘rganish ishlari olib borildi va holat fuqaro Q.H. tomonidan sodir etilgani aniqlandi.\n",
      "Fuqaro bu harakati bilan “Hayvonot dunyosini muhofaza qilish va undan foydalanish to‘g‘risida”gi qonunning 4, 30, 51, 53-moddalari talablarini buzgan.\n",
      "Davlat inspektorlari tomonidan unga nisbatan Ma’muriy javobgarlik to‘g‘risidagi kodeksning 90-moddasi (ov qilish va baliq ovlash qoidalarini, shuningdek hayvonot dunyosidan foydalanishning boshqa turlarini amalga oshirish qoidalarini buzish) 1-qismi bilan BHMning 20 baravari (7,5 million so‘m) miqdorida jarima qo‘llanildi.<end_of_turn>\n",
      "<start_of_turn>model\n",
      "Jizzax viloyati Zomin tumani bo‘limi va IIB xodimi buzgan hayvonot dunyosida o‘tkazilgan harakatga nisbatan jarima qo‘ydi<end_of_turn>\n",
      "TOTAL TIME ELAPSED: 2.20s\n",
      "\u001b[1m100/100\u001b[0m \u001b[32m━━━━━━━━━━━━━━━━━━━━\u001b[0m\u001b[37m\u001b[0m \u001b[1m83s\u001b[0m 813ms/step - loss: 1.3347 - sparse_categorical_accuracy: 0.6559\n",
      "Epoch 10/20\n",
      "\u001b[1m 99/100\u001b[0m \u001b[32m━━━━━━━━━━━━━━━━━━━\u001b[0m\u001b[37m━\u001b[0m \u001b[1m0s\u001b[0m 798ms/step - loss: 1.2487 - sparse_categorical_accuracy: 0.6768\n",
      "Gemma output:\n",
      "<start_of_turn>user\n",
      "Ushbu matnni xulosala: \n",
      "\n",
      "Ma’lum qilinishicha, ijtimoy tarmoqlarda kulvor ilonni tiriklay yegan fuqaro haqida video tarqalgandi. Jizzax viloyati Ekologiya boshqarmasi Zomin tumani bo‘limi va IIB xodimlari hamkorligida bu borada o‘rganish ishlari olib borildi va holat fuqaro Q.H. tomonidan sodir etilgani aniqlandi.\n",
      "Fuqaro bu harakati bilan “Hayvonot dunyosini muhofaza qilish va undan foydalanish to‘g‘risida”gi qonunning 4, 30, 51, 53-moddalari talablarini buzgan.\n",
      "Davlat inspektorlari tomonidan unga nisbatan Ma’muriy javobgarlik to‘g‘risidagi kodeksning 90-moddasi (ov qilish va baliq ovlash qoidalarini, shuningdek hayvonot dunyosidan foydalanishning boshqa turlarini amalga oshirish qoidalarini buzish) 1-qismi bilan BHMning 20 baravari (7,5 million so‘m) miqdorida jarima qo‘llanildi.<end_of_turn>\n",
      "<start_of_turn>model\n",
      "Jizzax viloyati Zomin tumani bo‘limi va Ekologiya boshqarmasi xodimi hamkorlikda hayvonot dunyosidan foydalanish qoidalarini buzgan fuqaroga jarima qo‘ydi<end_of_turn>\n",
      "TOTAL TIME ELAPSED: 2.48s\n",
      "\u001b[1m100/100\u001b[0m \u001b[32m━━━━━━━━━━━━━━━━━━━━\u001b[0m\u001b[37m\u001b[0m \u001b[1m83s\u001b[0m 816ms/step - loss: 1.2479 - sparse_categorical_accuracy: 0.6769\n",
      "Epoch 11/20\n",
      "\u001b[1m100/100\u001b[0m \u001b[32m━━━━━━━━━━━━━━━━━━━━\u001b[0m\u001b[37m\u001b[0m \u001b[1m0s\u001b[0m 790ms/step - loss: 1.1580 - sparse_categorical_accuracy: 0.6992\n",
      "Gemma output:\n",
      "<start_of_turn>user\n",
      "Ushbu matnni xulosala: \n",
      "\n",
      "Ma’lum qilinishicha, ijtimoy tarmoqlarda kulvor ilonni tiriklay yegan fuqaro haqida video tarqalgandi. Jizzax viloyati Ekologiya boshqarmasi Zomin tumani bo‘limi va IIB xodimlari hamkorligida bu borada o‘rganish ishlari olib borildi va holat fuqaro Q.H. tomonidan sodir etilgani aniqlandi.\n",
      "Fuqaro bu harakati bilan “Hayvonot dunyosini muhofaza qilish va undan foydalanish to‘g‘risida”gi qonunning 4, 30, 51, 53-moddalari talablarini buzgan.\n",
      "Davlat inspektorlari tomonidan unga nisbatan Ma’muriy javobgarlik to‘g‘risidagi kodeksning 90-moddasi (ov qilish va baliq ovlash qoidalarini, shuningdek hayvonot dunyosidan foydalanishning boshqa turlarini amalga oshirish qoidalarini buzish) 1-qismi bilan BHMning 20 baravari (7,5 million so‘m) miqdorida jarima qo‘llanildi.<end_of_turn>\n",
      "<start_of_turn>model\n",
      "Jizzax viloyati Zomin tumani bo‘limi va IIB xodimlari hamkorligida hayvonot dunyosini muhofaza qilish qoidalarini buzgan fuqaroya jarima qo‘ydi.\n",
      "Fuqaro Q.H. tomonidan sodir etilgan Borat-Oq-Qiz jizzaxchilerga aylanadi.\n",
      "Bu haqda Davlat inspektorlari tomonidan aniq qilindi.\"<end_of_turn>\n",
      "TOTAL TIME ELAPSED: 4.54s\n",
      "\u001b[1m100/100\u001b[0m \u001b[32m━━━━━━━━━━━━━━━━━━━━\u001b[0m\u001b[37m\u001b[0m \u001b[1m85s\u001b[0m 836ms/step - loss: 1.1576 - sparse_categorical_accuracy: 0.6992\n",
      "Epoch 12/20\n",
      "\u001b[1m 99/100\u001b[0m \u001b[32m━━━━━━━━━━━━━━━━━━━\u001b[0m\u001b[37m━\u001b[0m \u001b[1m0s\u001b[0m 798ms/step - loss: 1.0741 - sparse_categorical_accuracy: 0.7186\n",
      "Gemma output:\n",
      "<start_of_turn>user\n",
      "Ushbu matnni xulosala: \n",
      "\n",
      "Ma’lum qilinishicha, ijtimoy tarmoqlarda kulvor ilonni tiriklay yegan fuqaro haqida video tarqalgandi. Jizzax viloyati Ekologiya boshqarmasi Zomin tumani bo‘limi va IIB xodimlari hamkorligida bu borada o‘rganish ishlari olib borildi va holat fuqaro Q.H. tomonidan sodir etilgani aniqlandi.\n",
      "Fuqaro bu harakati bilan “Hayvonot dunyosini muhofaza qilish va undan foydalanish to‘g‘risida”gi qonunning 4, 30, 51, 53-moddalari talablarini buzgan.\n",
      "Davlat inspektorlari tomonidan unga nisbatan Ma’muriy javobgarlik to‘g‘risidagi kodeksning 90-moddasi (ov qilish va baliq ovlash qoidalarini, shuningdek hayvonot dunyosidan foydalanishning boshqa turlarini amalga oshirish qoidalarini buzish) 1-qismi bilan BHMning 20 baravari (7,5 million so‘m) miqdorida jarima qo‘llanildi.<end_of_turn>\n",
      "<start_of_turn>model\n",
      "Jizzax viloyati Zomin tumani bo‘limi va IIB xodimi ma’lumotlarga ko‘ra, Ekologiya boshqarmasi Zomin tumani bo‘limi hamkorlikda 2023 yil 12 iyul oyida 1,5 ta yoki ko‘pgina kuncha 1-2 ta holatda o‘rganish qilgan. Bu holatlar Ekologiya boshqarmasi Qoraqalpog‘iston Respublikasi bo‘limi hamkorlikda 2023 yil 12 iyul oyida Jizzax shahri Q.H. tomonidan sodir etilgan holatlarning 1 instancesini aniqladi.\n",
      "Jizzax shahri Q.H. tomonidan sodir etilgan holatlarning 1 instancesini aniqlashda Ekologiya boshqarmasi Zomin tumani bo\n",
      "TOTAL TIME ELAPSED: 8.39s\n",
      "\u001b[1m100/100\u001b[0m \u001b[32m━━━━━━━━━━━━━━━━━━━━\u001b[0m\u001b[37m\u001b[0m \u001b[1m89s\u001b[0m 875ms/step - loss: 1.0738 - sparse_categorical_accuracy: 0.7186\n",
      "Epoch 13/20\n",
      "\u001b[1m 99/100\u001b[0m \u001b[32m━━━━━━━━━━━━━━━━━━━\u001b[0m\u001b[37m━\u001b[0m \u001b[1m0s\u001b[0m 798ms/step - loss: 0.9965 - sparse_categorical_accuracy: 0.7359\n",
      "Gemma output:\n",
      "<start_of_turn>user\n",
      "Ushbu matnni xulosala: \n",
      "\n",
      "Ma’lum qilinishicha, ijtimoy tarmoqlarda kulvor ilonni tiriklay yegan fuqaro haqida video tarqalgandi. Jizzax viloyati Ekologiya boshqarmasi Zomin tumani bo‘limi va IIB xodimlari hamkorligida bu borada o‘rganish ishlari olib borildi va holat fuqaro Q.H. tomonidan sodir etilgani aniqlandi.\n",
      "Fuqaro bu harakati bilan “Hayvonot dunyosini muhofaza qilish va undan foydalanish to‘g‘risida”gi qonunning 4, 30, 51, 53-moddalari talablarini buzgan.\n",
      "Davlat inspektorlari tomonidan unga nisbatan Ma’muriy javobgarlik to‘g‘risidagi kodeksning 90-moddasi (ov qilish va baliq ovlash qoidalarini, shuningdek hayvonot dunyosidan foydalanishning boshqa turlarini amalga oshirish qoidalarini buzish) 1-qismi bilan BHMning 20 baravari (7,5 million so‘m) miqdorida jarima qo‘llanildi.<end_of_turn>\n",
      "<start_of_turn>model\n",
      "Jizzax viloyati tumanida ilonni tiriklay yegan hayvonot ishchisi jarima qo‘l Anglo-Amerikanlik hayvonot dunyosi muhofazasiga aylanishi 7,5 million so‘m fidokazi bilan muzashini tushuntirdi<end_of_turn>\n",
      "TOTAL TIME ELAPSED: 3.00s\n",
      "\u001b[1m100/100\u001b[0m \u001b[32m━━━━━━━━━━━━━━━━━━━━\u001b[0m\u001b[37m\u001b[0m \u001b[1m84s\u001b[0m 821ms/step - loss: 0.9959 - sparse_categorical_accuracy: 0.7359\n",
      "Epoch 14/20\n",
      "\u001b[1m100/100\u001b[0m \u001b[32m━━━━━━━━━━━━━━━━━━━━\u001b[0m\u001b[37m\u001b[0m \u001b[1m0s\u001b[0m 790ms/step - loss: 0.9239 - sparse_categorical_accuracy: 0.7554\n",
      "Gemma output:\n",
      "<start_of_turn>user\n",
      "Ushbu matnni xulosala: \n",
      "\n",
      "Ma’lum qilinishicha, ijtimoy tarmoqlarda kulvor ilonni tiriklay yegan fuqaro haqida video tarqalgandi. Jizzax viloyati Ekologiya boshqarmasi Zomin tumani bo‘limi va IIB xodimlari hamkorligida bu borada o‘rganish ishlari olib borildi va holat fuqaro Q.H. tomonidan sodir etilgani aniqlandi.\n",
      "Fuqaro bu harakati bilan “Hayvonot dunyosini muhofaza qilish va undan foydalanish to‘g‘risida”gi qonunning 4, 30, 51, 53-moddalari talablarini buzgan.\n",
      "Davlat inspektorlari tomonidan unga nisbatan Ma’muriy javobgarlik to‘g‘risidagi kodeksning 90-moddasi (ov qilish va baliq ovlash qoidalarini, shuningdek hayvonot dunyosidan foydalanishning boshqa turlarini amalga oshirish qoidalarini buzish) 1-qismi bilan BHMning 20 baravari (7,5 million so‘m) miqdorida jarima qo‘llanildi.<end_of_turn>\n",
      "<start_of_turn>model\n",
      "Jizzax viloyati tumanida kulvoda o‘rnatilgan kulcha-hayvonot dunyosini muhofaza qilish qoidalariga bo‘lgan jarima qo‘lланdi<end_of_turn>\n",
      "TOTAL TIME ELAPSED: 2.24s\n",
      "\u001b[1m100/100\u001b[0m \u001b[32m━━━━━━━━━━━━━━━━━━━━\u001b[0m\u001b[37m\u001b[0m \u001b[1m83s\u001b[0m 813ms/step - loss: 0.9234 - sparse_categorical_accuracy: 0.7555\n",
      "Epoch 15/20\n",
      "\u001b[1m100/100\u001b[0m \u001b[32m━━━━━━━━━━━━━━━━━━━━\u001b[0m\u001b[37m\u001b[0m \u001b[1m0s\u001b[0m 790ms/step - loss: 0.8538 - sparse_categorical_accuracy: 0.7735\n",
      "Gemma output:\n",
      "<start_of_turn>user\n",
      "Ushbu matnni xulosala: \n",
      "\n",
      "Ma’lum qilinishicha, ijtimoy tarmoqlarda kulvor ilonni tiriklay yegan fuqaro haqida video tarqalgandi. Jizzax viloyati Ekologiya boshqarmasi Zomin tumani bo‘limi va IIB xodimlari hamkorligida bu borada o‘rganish ishlari olib borildi va holat fuqaro Q.H. tomonidan sodir etilgani aniqlandi.\n",
      "Fuqaro bu harakati bilan “Hayvonot dunyosini muhofaza qilish va undan foydalanish to‘g‘risida”gi qonunning 4, 30, 51, 53-moddalari talablarini buzgan.\n",
      "Davlat inspektorlari tomonidan unga nisbatan Ma’muriy javobgarlik to‘g‘risidagi kodeksning 90-moddasi (ov qilish va baliq ovlash qoidalarini, shuningdek hayvonot dunyosidan foydalanishning boshqa turlarini amalga oshirish qoidalarini buzish) 1-qismi bilan BHMning 20 baravari (7,5 million so‘m) miqdorida jarima qo‘llanildi.<end_of_turn>\n",
      "<start_of_turn>model\n",
      "E’lonni tiriklay yegan fuqaroya jarima qo‘ylndi<end_of_turn>\n",
      "TOTAL TIME ELAPSED: 1.09s\n",
      "\u001b[1m100/100\u001b[0m \u001b[32m━━━━━━━━━━━━━━━━━━━━\u001b[0m\u001b[37m\u001b[0m \u001b[1m82s\u001b[0m 802ms/step - loss: 0.8536 - sparse_categorical_accuracy: 0.7735\n",
      "Epoch 16/20\n",
      "\u001b[1m 99/100\u001b[0m \u001b[32m━━━━━━━━━━━━━━━━━━━\u001b[0m\u001b[37m━\u001b[0m \u001b[1m0s\u001b[0m 798ms/step - loss: 0.7974 - sparse_categorical_accuracy: 0.7849\n",
      "Gemma output:\n",
      "<start_of_turn>user\n",
      "Ushbu matnni xulosala: \n",
      "\n",
      "Ma’lum qilinishicha, ijtimoy tarmoqlarda kulvor ilonni tiriklay yegan fuqaro haqida video tarqalgandi. Jizzax viloyati Ekologiya boshqarmasi Zomin tumani bo‘limi va IIB xodimlari hamkorligida bu borada o‘rganish ishlari olib borildi va holat fuqaro Q.H. tomonidan sodir etilgani aniqlandi.\n",
      "Fuqaro bu harakati bilan “Hayvonot dunyosini muhofaza qilish va undan foydalanish to‘g‘risida”gi qonunning 4, 30, 51, 53-moddalari talablarini buzgan.\n",
      "Davlat inspektorlari tomonidan unga nisbatan Ma’muriy javobgarlik to‘g‘risidagi kodeksning 90-moddasi (ov qilish va baliq ovlash qoidalarini, shuningdek hayvonot dunyosidan foydalanishning boshqa turlarini amalga oshirish qoidalarini buzish) 1-qismi bilan BHMning 20 baravari (7,5 million so‘m) miqdorida jarima qo‘llanildi.<end_of_turn>\n",
      "<start_of_turn>model\n",
      "Jizzax viloyati tumanida hayvonot dunyosini muhofaza qilish qoidalariga buziladi<end_of_turn>\n",
      "TOTAL TIME ELAPSED: 1.49s\n",
      "\u001b[1m100/100\u001b[0m \u001b[32m━━━━━━━━━━━━━━━━━━━━\u001b[0m\u001b[37m\u001b[0m \u001b[1m82s\u001b[0m 806ms/step - loss: 0.7971 - sparse_categorical_accuracy: 0.7850\n",
      "Epoch 17/20\n",
      "\u001b[1m 99/100\u001b[0m \u001b[32m━━━━━━━━━━━━━━━━━━━\u001b[0m\u001b[37m━\u001b[0m \u001b[1m0s\u001b[0m 798ms/step - loss: 0.7500 - sparse_categorical_accuracy: 0.7985\n",
      "Gemma output:\n",
      "<start_of_turn>user\n",
      "Ushbu matnni xulosala: \n",
      "\n",
      "Ma’lum qilinishicha, ijtimoy tarmoqlarda kulvor ilonni tiriklay yegan fuqaro haqida video tarqalgandi. Jizzax viloyati Ekologiya boshqarmasi Zomin tumani bo‘limi va IIB xodimlari hamkorligida bu borada o‘rganish ishlari olib borildi va holat fuqaro Q.H. tomonidan sodir etilgani aniqlandi.\n",
      "Fuqaro bu harakati bilan “Hayvonot dunyosini muhofaza qilish va undan foydalanish to‘g‘risida”gi qonunning 4, 30, 51, 53-moddalari talablarini buzgan.\n",
      "Davlat inspektorlari tomonidan unga nisbatan Ma’muriy javobgarlik to‘g‘risidagi kodeksning 90-moddasi (ov qilish va baliq ovlash qoidalarini, shuningdek hayvonot dunyosidan foydalanishning boshqa turlarini amalga oshirish qoidalarini buzish) 1-qismi bilan BHMning 20 baravari (7,5 million so‘m) miqdorida jarima qo‘llanildi.<end_of_turn>\n",
      "<start_of_turn>model\n",
      "Jizzax Zarning Ekologiya boshqarmasi fuqaro bo‘lib kulvordan o‘tkazgan haydondan jarima qo‘lladildi<end_of_turn>\n",
      "TOTAL TIME ELAPSED: 1.77s\n",
      "\u001b[1m100/100\u001b[0m \u001b[32m━━━━━━━━━━━━━━━━━━━━\u001b[0m\u001b[37m\u001b[0m \u001b[1m83s\u001b[0m 808ms/step - loss: 0.7495 - sparse_categorical_accuracy: 0.7985\n",
      "Epoch 18/20\n",
      "\u001b[1m100/100\u001b[0m \u001b[32m━━━━━━━━━━━━━━━━━━━━\u001b[0m\u001b[37m\u001b[0m \u001b[1m0s\u001b[0m 790ms/step - loss: 0.6954 - sparse_categorical_accuracy: 0.8140\n",
      "Gemma output:\n",
      "<start_of_turn>user\n",
      "Ushbu matnni xulosala: \n",
      "\n",
      "Ma’lum qilinishicha, ijtimoy tarmoqlarda kulvor ilonni tiriklay yegan fuqaro haqida video tarqalgandi. Jizzax viloyati Ekologiya boshqarmasi Zomin tumani bo‘limi va IIB xodimlari hamkorligida bu borada o‘rganish ishlari olib borildi va holat fuqaro Q.H. tomonidan sodir etilgani aniqlandi.\n",
      "Fuqaro bu harakati bilan “Hayvonot dunyosini muhofaza qilish va undan foydalanish to‘g‘risida”gi qonunning 4, 30, 51, 53-moddalari talablarini buzgan.\n",
      "Davlat inspektorlari tomonidan unga nisbatan Ma’muriy javobgarlik to‘g‘risidagi kodeksning 90-moddasi (ov qilish va baliq ovlash qoidalarini, shuningdek hayvonot dunyosidan foydalanishning boshqa turlarini amalga oshirish qoidalarini buzish) 1-qismi bilan BHMning 20 baravari (7,5 million so‘m) miqdorida jarima qo‘llanildi.<end_of_turn>\n",
      "<start_of_turn>model\n",
      "Jizzax Ekologiya boshqarmasi inspektorlari Q.H.-ning kul'darda o‘rnatilgan J 1-yoki J 2-yasil hayvoniga tiriklashga aylanib, 7,5 million so‘m jarima qo‘l Anglo-Toshkent bo‘limi fuqaroga berdi<end_of_turn>\n",
      "TOTAL TIME ELAPSED: 3.43s\n",
      "\u001b[1m100/100\u001b[0m \u001b[32m━━━━━━━━━━━━━━━━━━━━\u001b[0m\u001b[37m\u001b[0m \u001b[1m84s\u001b[0m 825ms/step - loss: 0.6952 - sparse_categorical_accuracy: 0.8140\n",
      "Epoch 19/20\n",
      "\u001b[1m 99/100\u001b[0m \u001b[32m━━━━━━━━━━━━━━━━━━━\u001b[0m\u001b[37m━\u001b[0m \u001b[1m0s\u001b[0m 798ms/step - loss: 0.6574 - sparse_categorical_accuracy: 0.8251\n",
      "Gemma output:\n",
      "<start_of_turn>user\n",
      "Ushbu matnni xulosala: \n",
      "\n",
      "Ma’lum qilinishicha, ijtimoy tarmoqlarda kulvor ilonni tiriklay yegan fuqaro haqida video tarqalgandi. Jizzax viloyati Ekologiya boshqarmasi Zomin tumani bo‘limi va IIB xodimlari hamkorligida bu borada o‘rganish ishlari olib borildi va holat fuqaro Q.H. tomonidan sodir etilgani aniqlandi.\n",
      "Fuqaro bu harakati bilan “Hayvonot dunyosini muhofaza qilish va undan foydalanish to‘g‘risida”gi qonunning 4, 30, 51, 53-moddalari talablarini buzgan.\n",
      "Davlat inspektorlari tomonidan unga nisbatan Ma’muriy javobgarlik to‘g‘risidagi kodeksning 90-moddasi (ov qilish va baliq ovlash qoidalarini, shuningdek hayvonot dunyosidan foydalanishning boshqa turlarini amalga oshirish qoidalarini buzish) 1-qismi bilan BHMning 20 baravari (7,5 million so‘m) miqdorida jarima qo‘llanildi.<end_of_turn>\n",
      "<start_of_turn>model\n",
      "Jizzax viloyati tumanida hayvonot dunyosidan foydalanish qoidalarini buzgan o‘sha fiqqi yonib o‘tgan 45-yilligi adamga 7,5 million so‘m jarima qo‘rildi<end_of_turn>\n",
      "TOTAL TIME ELAPSED: 2.76s\n",
      "\u001b[1m100/100\u001b[0m \u001b[32m━━━━━━━━━━━━━━━━━━━━\u001b[0m\u001b[37m\u001b[0m \u001b[1m84s\u001b[0m 818ms/step - loss: 0.6572 - sparse_categorical_accuracy: 0.8251\n",
      "Epoch 20/20\n",
      "\u001b[1m 99/100\u001b[0m \u001b[32m━━━━━━━━━━━━━━━━━━━\u001b[0m\u001b[37m━\u001b[0m \u001b[1m0s\u001b[0m 798ms/step - loss: 0.6168 - sparse_categorical_accuracy: 0.8364\n",
      "Gemma output:\n",
      "<start_of_turn>user\n",
      "Ushbu matnni xulosala: \n",
      "\n",
      "Ma’lum qilinishicha, ijtimoy tarmoqlarda kulvor ilonni tiriklay yegan fuqaro haqida video tarqalgandi. Jizzax viloyati Ekologiya boshqarmasi Zomin tumani bo‘limi va IIB xodimlari hamkorligida bu borada o‘rganish ishlari olib borildi va holat fuqaro Q.H. tomonidan sodir etilgani aniqlandi.\n",
      "Fuqaro bu harakati bilan “Hayvonot dunyosini muhofaza qilish va undan foydalanish to‘g‘risida”gi qonunning 4, 30, 51, 53-moddalari talablarini buzgan.\n",
      "Davlat inspektorlari tomonidan unga nisbatan Ma’muriy javobgarlik to‘g‘risidagi kodeksning 90-moddasi (ov qilish va baliq ovlash qoidalarini, shuningdek hayvonot dunyosidan foydalanishning boshqa turlarini amalga oshirish qoidalarini buzish) 1-qismi bilan BHMning 20 baravari (7,5 million so‘m) miqdorida jarima qo‘llanildi.<end_of_turn>\n",
      "<start_of_turn>model\n",
      "Jizzax viloyati tumanida hayvonot dunyosidan foydalanish qoidalariga buziladigan o‘yinda yarim ga rioya qilgan fuqaroya jarima qo‘yrildi<end_of_turn>\n",
      "TOTAL TIME ELAPSED: 2.28s\n",
      "\u001b[1m100/100\u001b[0m \u001b[32m━━━━━━━━━━━━━━━━━━━━\u001b[0m\u001b[37m\u001b[0m \u001b[1m83s\u001b[0m 813ms/step - loss: 0.6166 - sparse_categorical_accuracy: 0.8364\n"
     ]
    },
    {
     "data": {
      "image/png": "[encoded data removed]",
      "text/plain": [
       "<Figure size 640x480 with 1 Axes>"
      ]
     },
     "metadata": {},
     "output_type": "display_data"
    }
   ],
   "source": [
    "class CustomCallback(keras.callbacks.Callback):\n",
    "  def on_epoch_end(self, epoch, logs=None):\n",
    "    model_name = f\"/kaggle/working/{lora_name}_{lora_rank}_epoch{epoch+1}.lora.h5\"\n",
    "    gemma_lm.backbone.save_lora_weights(model_name)\n",
    "\n",
    "    # Evaluate\n",
    "    text_gen(\"\"\"Ushbu matnni xulosala: \\n\n",
    "Ma’lum qilinishicha, ijtimoy tarmoqlarda kulvor ilonni tiriklay yegan fuqaro haqida video tarqalgandi. Jizzax viloyati Ekologiya boshqarmasi Zomin tumani bo‘limi va IIB xodimlari hamkorligida bu borada o‘rganish ishlari olib borildi va holat fuqaro Q.H. tomonidan sodir etilgani aniqlandi.\n",
    "Fuqaro bu harakati bilan “Hayvonot dunyosini muhofaza qilish va undan foydalanish to‘g‘risida”gi qonunning 4, 30, 51, 53-moddalari talablarini buzgan.\n",
    "Davlat inspektorlari tomonidan unga nisbatan Ma’muriy javobgarlik to‘g‘risidagi kodeksning 90-moddasi (ov qilish va baliq ovlash qoidalarini, shuningdek hayvonot dunyosidan foydalanishning boshqa turlarini amalga oshirish qoidalarini buzish) 1-qismi bilan BHMning 20 baravari (7,5 million so‘m) miqdorida jarima qo‘llanildi.\"\"\")\n",
    "\n",
    "history = gemma_lm.fit(train, epochs=train_epoch, batch_size=1, callbacks=[CustomCallback()])\n",
    "\n",
    "import matplotlib.pyplot as plt\n",
    "plt.plot(history.history['loss'])\n",
    "plt.show()"
   ]
  },
  {
   "cell_type": "markdown",
   "id": "810a6582-ddd1-4856-9fdd-98d0480c794c",
   "metadata": {},
   "source": [
    "This section details the process of loading the saved LoRA weights into the base Gemma 2 model and testing its performance using a custom prompt. It also includes visualizing the training loss over epochs to evaluate the model's improvement during fine-tuning."
   ]
  },
  {
   "cell_type": "code",
   "execution_count": 6,
   "id": "a6398f3f",
   "metadata": {
    "execution": {
     "iopub.execute_input": "2025-01-14T16:23:41.006996Z",
     "iopub.status.busy": "2025-01-14T16:23:41.006647Z",
     "iopub.status.idle": "2025-01-14T16:23:58.233415Z",
     "shell.execute_reply": "2025-01-14T16:23:58.232582Z"
    },
    "papermill": {
     "duration": 17.322858,
     "end_time": "2025-01-14T16:23:58.234898",
     "exception": false,
     "start_time": "2025-01-14T16:23:40.912040",
     "status": "completed"
    },
    "tags": []
   },
   "outputs": [
    {
     "name": "stdout",
     "output_type": "stream",
     "text": [
      "<start_of_turn>user\n",
      "Ushbu matnni xulosala: \n",
      "\n",
      "2025-yilning 3-yanvar kuni JIB Toshkent shahar sudi apellyatsiya instansiyasida G‘ayrat Do‘stov ishini ko‘rib chiqdi. Garchi birinchi instansiya sudi tomonidan 15 sutkaga qamalgan kirakashning hibs muddati 8 sutkaga qisqartirilgan va u sud zalidan ozod qilingan bo‘lsa-da, apellyatsiya sudida aniqlangan qator qonun buzilishi holatlariga huquqiy baho berilmadi.\n",
      "Nega mahbus poytaxt IIBB yerto‘lasida saqlangan?\n",
      "Amaldagi tartibga ko‘ra, ma’muriy qamoq jazosi tayinlanganlar Toshkent shahar IIBB ma’muriy qamoqqa olingan shaxslarni qabul qilish va saqlash uchun mo‘ljallangan maxsus qabulxonasida saqlanadi. Bu “Ma’muriy qamoqni o‘tash tartibi to‘g‘risida”gi qonunda belgilab qo‘yilgan.\n",
      "Qonunda jinoyat ishlari bo‘yicha tuman (shahar) sudi sudyasining qarori ma’muriy qamoqni o‘tash uchun asos bo‘lishi belgilangan. JIB Bektemir tuman sudining 2024-yil 26-dekabrdagi qarorida ham G‘ayrat Do‘stov 15 sutkalik ma’muriy qamoq jazosini maxsus qabulxonada o‘tashi va buning uchun ketadigan xarajatlar fuqaroning hisobidan qoplanishi qayd etilgan.\n",
      "<end_of_turn>\n",
      "<start_of_turn>model\n",
      "G‘ayrat Do‘stov IBB yerto‘lasida ozod qolgan edi. Qayd qilinishicha, u 2024-yilda 15 sutkalik ma’muriy qamoq jazosini toshkentliklarning “Yerga olingan xizmat mansublarni o\n"
     ]
    },
    {
     "data": {
      "image/png": "[encoded data removed]",
      "text/plain": [
       "<Figure size 640x480 with 1 Axes>"
      ]
     },
     "metadata": {},
     "output_type": "display_data"
    }
   ],
   "source": [
    "# Path to the saved LoRA weights\n",
    "# saved_lora_weights = f\"/kaggle/working/{lora_name}_{lora_rank}_epoch{train_epoch}.lora.h5\"\n",
    "saved_lora_weights = f\"/kaggle/working/{lora_name}_{lora_rank}_epoch20.lora.h5\"\n",
    "\n",
    "# Load the LoRA weights into the base model\n",
    "gemma_lm.backbone.load_lora_weights(saved_lora_weights)\n",
    "\n",
    "# Test the fine-tuned model with a prompt\n",
    "\n",
    "test_prompt = (\n",
    "  \"<start_of_turn>user\\n\"\n",
    "  \"Ushbu matnni xulosala: \\n\\n\"\n",
    "  \"\"\"2025-yilning 3-yanvar kuni JIB Toshkent shahar sudi apellyatsiya instansiyasida G‘ayrat Do‘stov ishini ko‘rib chiqdi. Garchi birinchi instansiya sudi tomonidan 15 sutkaga qamalgan kirakashning hibs muddati 8 sutkaga qisqartirilgan va u sud zalidan ozod qilingan bo‘lsa-da, apellyatsiya sudida aniqlangan qator qonun buzilishi holatlariga huquqiy baho berilmadi.\n",
    "Nega mahbus poytaxt IIBB yerto‘lasida saqlangan?\n",
    "Amaldagi tartibga ko‘ra, ma’muriy qamoq jazosi tayinlanganlar Toshkent shahar IIBB ma’muriy qamoqqa olingan shaxslarni qabul qilish va saqlash uchun mo‘ljallangan maxsus qabulxonasida saqlanadi. Bu “Ma’muriy qamoqni o‘tash tartibi to‘g‘risida”gi qonunda belgilab qo‘yilgan.\n",
    "Qonunda jinoyat ishlari bo‘yicha tuman (shahar) sudi sudyasining qarori ma’muriy qamoqni o‘tash uchun asos bo‘lishi belgilangan. JIB Bektemir tuman sudining 2024-yil 26-dekabrdagi qarorida ham G‘ayrat Do‘stov 15 sutkalik ma’muriy qamoq jazosini maxsus qabulxonada o‘tashi va buning uchun ketadigan xarajatlar fuqaroning hisobidan qoplanishi qayd etilgan.\\n\"\"\"\n",
    "  \"<end_of_turn>\\n\"\n",
    "  \"<start_of_turn>model\\n\"\n",
    ")\n",
    "\n",
    "\n",
    "output = gemma_lm.generate(test_prompt, max_length=500)\n",
    "print(output)\n",
    "\n",
    "import matplotlib.pyplot as plt\n",
    "\n",
    "# Plot training loss\n",
    "plt.plot(history.history['loss'])\n",
    "plt.xlabel('Epochs')\n",
    "plt.ylabel('Loss')\n",
    "plt.title('Training Loss Over Epochs')\n",
    "plt.show()\n"
   ]
  },
  {
   "cell_type": "markdown",
   "id": "585ba17f-2cee-49e6-a375-c43676768fd6",
   "metadata": {},
   "source": [
    "This section explains how to package the fine-tuned LoRA weights into a zip file for convenient sharing or deployment. It also provides a direct link to download the zipped weights for further use."
   ]
  },
  {
   "cell_type": "code",
   "execution_count": 7,
   "id": "05850a8c",
   "metadata": {
    "execution": {
     "iopub.execute_input": "2025-01-14T16:23:58.472266Z",
     "iopub.status.busy": "2025-01-14T16:23:58.471965Z",
     "iopub.status.idle": "2025-01-14T16:24:10.867416Z",
     "shell.execute_reply": "2025-01-14T16:24:10.866466Z"
    },
    "papermill": {
     "duration": 12.536293,
     "end_time": "2025-01-14T16:24:10.869018",
     "exception": false,
     "start_time": "2025-01-14T16:23:58.332725",
     "status": "completed"
    },
    "tags": []
   },
   "outputs": [
    {
     "name": "stdout",
     "output_type": "stream",
     "text": [
      "  adding: kaggle/working/ (stored 0%)\r\n",
      "  adding: kaggle/working/uzbek_gemma_5_4_epoch9.lora.h5"
     ]
    },
    {
     "name": "stderr",
     "output_type": "stream",
     "text": [
      "/usr/lib/python3.10/pty.py:89: RuntimeWarning: os.fork() was called. os.fork() is incompatible with multithreaded code, and JAX is multithreaded, so this will likely lead to a deadlock.\n",
      "  pid, fd = os.forkpty()\n"
     ]
    },
    {
     "name": "stdout",
     "output_type": "stream",
     "text": [
      " (deflated 9%)\r\n",
      "  adding: kaggle/working/uzbek_gemma_5_4_epoch12.lora.h5 (deflated 8%)\r\n",
      "  adding: kaggle/working/__notebook__.ipynb (deflated 91%)\r\n",
      "  adding: kaggle/working/uzbek_gemma_5_4_epoch2.lora.h5 (deflated 9%)\r\n",
      "  adding: kaggle/working/uzbek_gemma_5_4_epoch14.lora.h5 (deflated 8%)\r\n",
      "  adding: kaggle/working/uzbek_gemma_5_4_epoch5.lora.h5 (deflated 9%)\r\n",
      "  adding: kaggle/working/uzbek_gemma_5_4_epoch10.lora.h5 (deflated 9%)\r\n",
      "  adding: kaggle/working/uzbek_gemma_5_4_epoch16.lora.h5 (deflated 8%)\r\n",
      "  adding: kaggle/working/uzbek_gemma_5_4_epoch3.lora.h5 (deflated 9%)\r\n",
      "  adding: kaggle/working/uzbek_gemma_5_4_epoch8.lora.h5 (deflated 9%)\r\n",
      "  adding: kaggle/working/uzbek_gemma_5_4_epoch18.lora.h5 (deflated 8%)\r\n",
      "  adding: kaggle/working/uzbek_gemma_5_4_epoch17.lora.h5 (deflated 8%)\r\n",
      "  adding: kaggle/working/uzbek_gemma_5_4_epoch1.lora.h5 (deflated 9%)\r\n",
      "  adding: kaggle/working/uzbek_gemma_5_4_epoch6.lora.h5 (deflated 9%)\r\n",
      "  adding: kaggle/working/uzbek_gemma_5_4_epoch19.lora.h5 (deflated 8%)\r\n",
      "  adding: kaggle/working/uzbek_gemma_5_4_epoch11.lora.h5 (deflated 8%)\r\n",
      "  adding: kaggle/working/uzbek_gemma_5_4_epoch4.lora.h5 (deflated 9%)\r\n",
      "  adding: kaggle/working/uzbek_gemma_5_4_epoch13.lora.h5 (deflated 8%)\r\n",
      "  adding: kaggle/working/uzbek_gemma_5_4_epoch20.lora.h5 (deflated 8%)\r\n",
      "  adding: kaggle/working/uzbek_gemma_5_4_epoch7.lora.h5 (deflated 9%)\r\n",
      "  adding: kaggle/working/uzbek_gemma_5_4_epoch15.lora.h5 (deflated 8%)\r\n"
     ]
    },
    {
     "data": {
      "text/html": [
       "<a href='lora_weights.zip' target='_blank'>lora_weights.zip</a><br>"
      ],
      "text/plain": [
       "/kaggle/working/lora_weights.zip"
      ]
     },
     "execution_count": 7,
     "metadata": {},
     "output_type": "execute_result"
    }
   ],
   "source": [
    "!zip -r lora_weights.zip /kaggle/working/\n",
    "from IPython.display import FileLink\n",
    "FileLink(\"lora_weights.zip\")\n"
   ]
  }
 ],
 "metadata": {
  "kaggle": {
   "accelerator": "gpu",
   "dataSources": [
    {
     "datasetId": 6428101,
     "sourceId": 10377488,
     "sourceType": "datasetVersion"
    },
    {
     "datasetId": 6461090,
     "sourceId": 10453054,
     "sourceType": "datasetVersion"
    },
    {
     "modelId": 78150,
     "modelInstanceId": 72246,
     "sourceId": 85986,
     "sourceType": "modelInstanceVersion"
    }
   ],
   "dockerImageVersionId": 30823,
   "isGpuEnabled": true,
   "isInternetEnabled": true,
   "language": "python",
   "sourceType": "notebook"
  },
  "kernelspec": {
   "display_name": "Python 3 (ipykernel)",
   "language": "python",
   "name": "python3"
  },
  "language_info": {
   "codemirror_mode": {
    "name": "ipython",
    "version": 3
   },
   "file_extension": ".py",
   "mimetype": "text/x-python",
   "name": "python",
   "nbconvert_exporter": "python",
   "pygments_lexer": "ipython3",
   "version": "3.12.8"
  },
  "papermill": {
   "default_parameters": {},
   "duration": 1906.581811,
   "end_time": "2025-01-14T16:24:14.804163",
   "environment_variables": {},
   "exception": null,
   "input_path": "__notebook__.ipynb",
   "output_path": "__notebook__.ipynb",
   "parameters": {},
   "start_time": "2025-01-14T15:52:28.222352",
   "version": "2.6.0"
  },
  "widgets": {
   "application/vnd.jupyter.widget-state+json": {
    "state": {
     "13a34a3b84be4a23b0455558cf5939c3": {
      "model_module": "@jupyter-widgets/controls",
      "model_module_version": "2.0.0",
      "model_name": "HTMLStyleModel",
      "state": {
       "_model_module": "@jupyter-widgets/controls",
       "_model_module_version": "2.0.0",
       "_model_name": "HTMLStyleModel",
       "_view_count": null,
       "_view_module": "@jupyter-widgets/base",
       "_view_module_version": "2.0.0",
       "_view_name": "StyleView",
       "background": null,
       "description_width": "",
       "font_size": null,
       "text_color": null
      }
     },
     "25e563d5947241b4b034fbda2701ea54": {
      "model_module": "@jupyter-widgets/base",
      "model_module_version": "2.0.0",
      "model_name": "LayoutModel",
      "state": {
       "_model_module": "@jupyter-widgets/base",
       "_model_module_version": "2.0.0",
       "_model_name": "LayoutModel",
       "_view_count": null,
       "_view_module": "@jupyter-widgets/base",
       "_view_module_version": "2.0.0",
       "_view_name": "LayoutView",
       "align_content": null,
       "align_items": null,
       "align_self": null,
       "border_bottom": null,
       "border_left": null,
       "border_right": null,
       "border_top": null,
       "bottom": null,
       "display": null,
       "flex": null,
       "flex_flow": null,
       "grid_area": null,
       "grid_auto_columns": null,
       "grid_auto_flow": null,
       "grid_auto_rows": null,
       "grid_column": null,
       "grid_gap": null,
       "grid_row": null,
       "grid_template_areas": null,
       "grid_template_columns": null,
       "grid_template_rows": null,
       "height": null,
       "justify_content": null,
       "justify_items": null,
       "left": null,
       "margin": null,
       "max_height": null,
       "max_width": null,
       "min_height": null,
       "min_width": null,
       "object_fit": null,
       "object_position": null,
       "order": null,
       "overflow": null,
       "padding": null,
       "right": null,
       "top": null,
       "visibility": null,
       "width": null
      }
     },
     "2ab39a489118476a91251afa44188755": {
      "model_module": "@jupyter-widgets/base",
      "model_module_version": "2.0.0",
      "model_name": "LayoutModel",
      "state": {
       "_model_module": "@jupyter-widgets/base",
       "_model_module_version": "2.0.0",
       "_model_name": "LayoutModel",
       "_view_count": null,
       "_view_module": "@jupyter-widgets/base",
       "_view_module_version": "2.0.0",
       "_view_name": "LayoutView",
       "align_content": null,
       "align_items": null,
       "align_self": null,
       "border_bottom": null,
       "border_left": null,
       "border_right": null,
       "border_top": null,
       "bottom": null,
       "display": null,
       "flex": null,
       "flex_flow": null,
       "grid_area": null,
       "grid_auto_columns": null,
       "grid_auto_flow": null,
       "grid_auto_rows": null,
       "grid_column": null,
       "grid_gap": null,
       "grid_row": null,
       "grid_template_areas": null,
       "grid_template_columns": null,
       "grid_template_rows": null,
       "height": null,
       "justify_content": null,
       "justify_items": null,
       "left": null,
       "margin": null,
       "max_height": null,
       "max_width": null,
       "min_height": null,
       "min_width": null,
       "object_fit": null,
       "object_position": null,
       "order": null,
       "overflow": null,
       "padding": null,
       "right": null,
       "top": null,
       "visibility": null,
       "width": null
      }
     },
     "2e9ac1dbc6314cdb87ef01f37e816eba": {
      "model_module": "@jupyter-widgets/base",
      "model_module_version": "2.0.0",
      "model_name": "LayoutModel",
      "state": {
       "_model_module": "@jupyter-widgets/base",
       "_model_module_version": "2.0.0",
       "_model_name": "LayoutModel",
       "_view_count": null,
       "_view_module": "@jupyter-widgets/base",
       "_view_module_version": "2.0.0",
       "_view_name": "LayoutView",
       "align_content": null,
       "align_items": null,
       "align_self": null,
       "border_bottom": null,
       "border_left": null,
       "border_right": null,
       "border_top": null,
       "bottom": null,
       "display": null,
       "flex": null,
       "flex_flow": null,
       "grid_area": null,
       "grid_auto_columns": null,
       "grid_auto_flow": null,
       "grid_auto_rows": null,
       "grid_column": null,
       "grid_gap": null,
       "grid_row": null,
       "grid_template_areas": null,
       "grid_template_columns": null,
       "grid_template_rows": null,
       "height": null,
       "justify_content": null,
       "justify_items": null,
       "left": null,
       "margin": null,
       "max_height": null,
       "max_width": null,
       "min_height": null,
       "min_width": null,
       "object_fit": null,
       "object_position": null,
       "order": null,
       "overflow": null,
       "padding": null,
       "right": null,
       "top": null,
       "visibility": null,
       "width": null
      }
     },
     "407904c3a1284292841f544c249456ad": {
      "model_module": "@jupyter-widgets/controls",
      "model_module_version": "2.0.0",
      "model_name": "HTMLModel",
      "state": {
       "_dom_classes": [],
       "_model_module": "@jupyter-widgets/controls",
       "_model_module_version": "2.0.0",
       "_model_name": "HTMLModel",
       "_view_count": null,
       "_view_module": "@jupyter-widgets/controls",
       "_view_module_version": "2.0.0",
       "_view_name": "HTMLView",
       "description": "",
       "description_allow_html": false,
       "layout": "IPY_MODEL_968f53e4115041f0ac2c86c03f8b54b6",
       "placeholder": "​",
       "style": "IPY_MODEL_7089ada07b404d32b4f9bac2a05a373d",
       "tabbable": null,
       "tooltip": null,
       "value": "Generating train split: "
      }
     },
     "4e7c5f89e4204c5b86ea30040c86bbf1": {
      "model_module": "@jupyter-widgets/base",
      "model_module_version": "2.0.0",
      "model_name": "LayoutModel",
      "state": {
       "_model_module": "@jupyter-widgets/base",
       "_model_module_version": "2.0.0",
       "_model_name": "LayoutModel",
       "_view_count": null,
       "_view_module": "@jupyter-widgets/base",
       "_view_module_version": "2.0.0",
       "_view_name": "LayoutView",
       "align_content": null,
       "align_items": null,
       "align_self": null,
       "border_bottom": null,
       "border_left": null,
       "border_right": null,
       "border_top": null,
       "bottom": null,
       "display": null,
       "flex": null,
       "flex_flow": null,
       "grid_area": null,
       "grid_auto_columns": null,
       "grid_auto_flow": null,
       "grid_auto_rows": null,
       "grid_column": null,
       "grid_gap": null,
       "grid_row": null,
       "grid_template_areas": null,
       "grid_template_columns": null,
       "grid_template_rows": null,
       "height": null,
       "justify_content": null,
       "justify_items": null,
       "left": null,
       "margin": null,
       "max_height": null,
       "max_width": null,
       "min_height": null,
       "min_width": null,
       "object_fit": null,
       "object_position": null,
       "order": null,
       "overflow": null,
       "padding": null,
       "right": null,
       "top": null,
       "visibility": null,
       "width": null
      }
     },
     "5260f0f9fd3a42cea9e8370192a1541e": {
      "model_module": "@jupyter-widgets/controls",
      "model_module_version": "2.0.0",
      "model_name": "HTMLModel",
      "state": {
       "_dom_classes": [],
       "_model_module": "@jupyter-widgets/controls",
       "_model_module_version": "2.0.0",
       "_model_name": "HTMLModel",
       "_view_count": null,
       "_view_module": "@jupyter-widgets/controls",
       "_view_module_version": "2.0.0",
       "_view_name": "HTMLView",
       "description": "",
       "description_allow_html": false,
       "layout": "IPY_MODEL_25e563d5947241b4b034fbda2701ea54",
       "placeholder": "​",
       "style": "IPY_MODEL_13a34a3b84be4a23b0455558cf5939c3",
       "tabbable": null,
       "tooltip": null,
       "value": "Computing checksums: 100%"
      }
     },
     "63257a8b8f504142bbec17f50042a26d": {
      "model_module": "@jupyter-widgets/controls",
      "model_module_version": "2.0.0",
      "model_name": "HBoxModel",
      "state": {
       "_dom_classes": [],
       "_model_module": "@jupyter-widgets/controls",
       "_model_module_version": "2.0.0",
       "_model_name": "HBoxModel",
       "_view_count": null,
       "_view_module": "@jupyter-widgets/controls",
       "_view_module_version": "2.0.0",
       "_view_name": "HBoxView",
       "box_style": "",
       "children": [
        "IPY_MODEL_407904c3a1284292841f544c249456ad",
        "IPY_MODEL_82a8c2b434bd4d1388783f916fbf4e6c",
        "IPY_MODEL_cad34fb5df3c4039804ee7707fdb85ca"
       ],
       "layout": "IPY_MODEL_e1d4cf6643a241a1af9341d25181fd0d",
       "tabbable": null,
       "tooltip": null
      }
     },
     "7089ada07b404d32b4f9bac2a05a373d": {
      "model_module": "@jupyter-widgets/controls",
      "model_module_version": "2.0.0",
      "model_name": "HTMLStyleModel",
      "state": {
       "_model_module": "@jupyter-widgets/controls",
       "_model_module_version": "2.0.0",
       "_model_name": "HTMLStyleModel",
       "_view_count": null,
       "_view_module": "@jupyter-widgets/base",
       "_view_module_version": "2.0.0",
       "_view_name": "StyleView",
       "background": null,
       "description_width": "",
       "font_size": null,
       "text_color": null
      }
     },
     "82a8c2b434bd4d1388783f916fbf4e6c": {
      "model_module": "@jupyter-widgets/controls",
      "model_module_version": "2.0.0",
      "model_name": "FloatProgressModel",
      "state": {
       "_dom_classes": [],
       "_model_module": "@jupyter-widgets/controls",
       "_model_module_version": "2.0.0",
       "_model_name": "FloatProgressModel",
       "_view_count": null,
       "_view_module": "@jupyter-widgets/controls",
       "_view_module_version": "2.0.0",
       "_view_name": "ProgressView",
       "bar_style": "success",
       "description": "",
       "description_allow_html": false,
       "layout": "IPY_MODEL_b3b3edb009cc4edcabfe4b89f1893a45",
       "max": 1,
       "min": 0,
       "orientation": "horizontal",
       "style": "IPY_MODEL_c6d1ed90d8564bfea58f96f6fbae8906",
       "tabbable": null,
       "tooltip": null,
       "value": 1
      }
     },
     "8705d585e68742098ca552dc7ce72934": {
      "model_module": "@jupyter-widgets/base",
      "model_module_version": "2.0.0",
      "model_name": "LayoutModel",
      "state": {
       "_model_module": "@jupyter-widgets/base",
       "_model_module_version": "2.0.0",
       "_model_name": "LayoutModel",
       "_view_count": null,
       "_view_module": "@jupyter-widgets/base",
       "_view_module_version": "2.0.0",
       "_view_name": "LayoutView",
       "align_content": null,
       "align_items": null,
       "align_self": null,
       "border_bottom": null,
       "border_left": null,
       "border_right": null,
       "border_top": null,
       "bottom": null,
       "display": null,
       "flex": null,
       "flex_flow": null,
       "grid_area": null,
       "grid_auto_columns": null,
       "grid_auto_flow": null,
       "grid_auto_rows": null,
       "grid_column": null,
       "grid_gap": null,
       "grid_row": null,
       "grid_template_areas": null,
       "grid_template_columns": null,
       "grid_template_rows": null,
       "height": null,
       "justify_content": null,
       "justify_items": null,
       "left": null,
       "margin": null,
       "max_height": null,
       "max_width": null,
       "min_height": null,
       "min_width": null,
       "object_fit": null,
       "object_position": null,
       "order": null,
       "overflow": null,
       "padding": null,
       "right": null,
       "top": null,
       "visibility": null,
       "width": null
      }
     },
     "8cabcda9aaa643ceac4a07f796ea4a7f": {
      "model_module": "@jupyter-widgets/controls",
      "model_module_version": "2.0.0",
      "model_name": "HTMLStyleModel",
      "state": {
       "_model_module": "@jupyter-widgets/controls",
       "_model_module_version": "2.0.0",
       "_model_name": "HTMLStyleModel",
       "_view_count": null,
       "_view_module": "@jupyter-widgets/base",
       "_view_module_version": "2.0.0",
       "_view_name": "StyleView",
       "background": null,
       "description_width": "",
       "font_size": null,
       "text_color": null
      }
     },
     "968f53e4115041f0ac2c86c03f8b54b6": {
      "model_module": "@jupyter-widgets/base",
      "model_module_version": "2.0.0",
      "model_name": "LayoutModel",
      "state": {
       "_model_module": "@jupyter-widgets/base",
       "_model_module_version": "2.0.0",
       "_model_name": "LayoutModel",
       "_view_count": null,
       "_view_module": "@jupyter-widgets/base",
       "_view_module_version": "2.0.0",
       "_view_name": "LayoutView",
       "align_content": null,
       "align_items": null,
       "align_self": null,
       "border_bottom": null,
       "border_left": null,
       "border_right": null,
       "border_top": null,
       "bottom": null,
       "display": null,
       "flex": null,
       "flex_flow": null,
       "grid_area": null,
       "grid_auto_columns": null,
       "grid_auto_flow": null,
       "grid_auto_rows": null,
       "grid_column": null,
       "grid_gap": null,
       "grid_row": null,
       "grid_template_areas": null,
       "grid_template_columns": null,
       "grid_template_rows": null,
       "height": null,
       "justify_content": null,
       "justify_items": null,
       "left": null,
       "margin": null,
       "max_height": null,
       "max_width": null,
       "min_height": null,
       "min_width": null,
       "object_fit": null,
       "object_position": null,
       "order": null,
       "overflow": null,
       "padding": null,
       "right": null,
       "top": null,
       "visibility": null,
       "width": null
      }
     },
     "b3b3edb009cc4edcabfe4b89f1893a45": {
      "model_module": "@jupyter-widgets/base",
      "model_module_version": "2.0.0",
      "model_name": "LayoutModel",
      "state": {
       "_model_module": "@jupyter-widgets/base",
       "_model_module_version": "2.0.0",
       "_model_name": "LayoutModel",
       "_view_count": null,
       "_view_module": "@jupyter-widgets/base",
       "_view_module_version": "2.0.0",
       "_view_name": "LayoutView",
       "align_content": null,
       "align_items": null,
       "align_self": null,
       "border_bottom": null,
       "border_left": null,
       "border_right": null,
       "border_top": null,
       "bottom": null,
       "display": null,
       "flex": null,
       "flex_flow": null,
       "grid_area": null,
       "grid_auto_columns": null,
       "grid_auto_flow": null,
       "grid_auto_rows": null,
       "grid_column": null,
       "grid_gap": null,
       "grid_row": null,
       "grid_template_areas": null,
       "grid_template_columns": null,
       "grid_template_rows": null,
       "height": null,
       "justify_content": null,
       "justify_items": null,
       "left": null,
       "margin": null,
       "max_height": null,
       "max_width": null,
       "min_height": null,
       "min_width": null,
       "object_fit": null,
       "object_position": null,
       "order": null,
       "overflow": null,
       "padding": null,
       "right": null,
       "top": null,
       "visibility": null,
       "width": "20px"
      }
     },
     "b40dbc9f31a54d7dac5447a068790552": {
      "model_module": "@jupyter-widgets/controls",
      "model_module_version": "2.0.0",
      "model_name": "HBoxModel",
      "state": {
       "_dom_classes": [],
       "_model_module": "@jupyter-widgets/controls",
       "_model_module_version": "2.0.0",
       "_model_name": "HBoxModel",
       "_view_count": null,
       "_view_module": "@jupyter-widgets/controls",
       "_view_module_version": "2.0.0",
       "_view_name": "HBoxView",
       "box_style": "",
       "children": [
        "IPY_MODEL_5260f0f9fd3a42cea9e8370192a1541e",
        "IPY_MODEL_bf777230040244b68bd4d5dcdba54edd",
        "IPY_MODEL_e1a50a7dfbc24543870a0fc9e5b05479"
       ],
       "layout": "IPY_MODEL_8705d585e68742098ca552dc7ce72934",
       "tabbable": null,
       "tooltip": null
      }
     },
     "bf777230040244b68bd4d5dcdba54edd": {
      "model_module": "@jupyter-widgets/controls",
      "model_module_version": "2.0.0",
      "model_name": "FloatProgressModel",
      "state": {
       "_dom_classes": [],
       "_model_module": "@jupyter-widgets/controls",
       "_model_module_version": "2.0.0",
       "_model_name": "FloatProgressModel",
       "_view_count": null,
       "_view_module": "@jupyter-widgets/controls",
       "_view_module_version": "2.0.0",
       "_view_name": "ProgressView",
       "bar_style": "success",
       "description": "",
       "description_allow_html": false,
       "layout": "IPY_MODEL_2ab39a489118476a91251afa44188755",
       "max": 1,
       "min": 0,
       "orientation": "horizontal",
       "style": "IPY_MODEL_f7fa3fc74dd543e4b47e761bd6b8d674",
       "tabbable": null,
       "tooltip": null,
       "value": 1
      }
     },
     "c6d1ed90d8564bfea58f96f6fbae8906": {
      "model_module": "@jupyter-widgets/controls",
      "model_module_version": "2.0.0",
      "model_name": "ProgressStyleModel",
      "state": {
       "_model_module": "@jupyter-widgets/controls",
       "_model_module_version": "2.0.0",
       "_model_name": "ProgressStyleModel",
       "_view_count": null,
       "_view_module": "@jupyter-widgets/base",
       "_view_module_version": "2.0.0",
       "_view_name": "StyleView",
       "bar_color": null,
       "description_width": ""
      }
     },
     "cad34fb5df3c4039804ee7707fdb85ca": {
      "model_module": "@jupyter-widgets/controls",
      "model_module_version": "2.0.0",
      "model_name": "HTMLModel",
      "state": {
       "_dom_classes": [],
       "_model_module": "@jupyter-widgets/controls",
       "_model_module_version": "2.0.0",
       "_model_name": "HTMLModel",
       "_view_count": null,
       "_view_module": "@jupyter-widgets/controls",
       "_view_module_version": "2.0.0",
       "_view_name": "HTMLView",
       "description": "",
       "description_allow_html": false,
       "layout": "IPY_MODEL_4e7c5f89e4204c5b86ea30040c86bbf1",
       "placeholder": "​",
       "style": "IPY_MODEL_8cabcda9aaa643ceac4a07f796ea4a7f",
       "tabbable": null,
       "tooltip": null,
       "value": " 40837/0 [00:03&lt;00:00, 10487.05 examples/s]"
      }
     },
     "d8fdb42e26b245c1bf8df9d536b3194e": {
      "model_module": "@jupyter-widgets/controls",
      "model_module_version": "2.0.0",
      "model_name": "HTMLStyleModel",
      "state": {
       "_model_module": "@jupyter-widgets/controls",
       "_model_module_version": "2.0.0",
       "_model_name": "HTMLStyleModel",
       "_view_count": null,
       "_view_module": "@jupyter-widgets/base",
       "_view_module_version": "2.0.0",
       "_view_name": "StyleView",
       "background": null,
       "description_width": "",
       "font_size": null,
       "text_color": null
      }
     },
     "e1a50a7dfbc24543870a0fc9e5b05479": {
      "model_module": "@jupyter-widgets/controls",
      "model_module_version": "2.0.0",
      "model_name": "HTMLModel",
      "state": {
       "_dom_classes": [],
       "_model_module": "@jupyter-widgets/controls",
       "_model_module_version": "2.0.0",
       "_model_name": "HTMLModel",
       "_view_count": null,
       "_view_module": "@jupyter-widgets/controls",
       "_view_module_version": "2.0.0",
       "_view_name": "HTMLView",
       "description": "",
       "description_allow_html": false,
       "layout": "IPY_MODEL_2e9ac1dbc6314cdb87ef01f37e816eba",
       "placeholder": "​",
       "style": "IPY_MODEL_d8fdb42e26b245c1bf8df9d536b3194e",
       "tabbable": null,
       "tooltip": null,
       "value": " 1/1 [00:00&lt;00:00, 121.66it/s]"
      }
     },
     "e1d4cf6643a241a1af9341d25181fd0d": {
      "model_module": "@jupyter-widgets/base",
      "model_module_version": "2.0.0",
      "model_name": "LayoutModel",
      "state": {
       "_model_module": "@jupyter-widgets/base",
       "_model_module_version": "2.0.0",
       "_model_name": "LayoutModel",
       "_view_count": null,
       "_view_module": "@jupyter-widgets/base",
       "_view_module_version": "2.0.0",
       "_view_name": "LayoutView",
       "align_content": null,
       "align_items": null,
       "align_self": null,
       "border_bottom": null,
       "border_left": null,
       "border_right": null,
       "border_top": null,
       "bottom": null,
       "display": null,
       "flex": null,
       "flex_flow": null,
       "grid_area": null,
       "grid_auto_columns": null,
       "grid_auto_flow": null,
       "grid_auto_rows": null,
       "grid_column": null,
       "grid_gap": null,
       "grid_row": null,
       "grid_template_areas": null,
       "grid_template_columns": null,
       "grid_template_rows": null,
       "height": null,
       "justify_content": null,
       "justify_items": null,
       "left": null,
       "margin": null,
       "max_height": null,
       "max_width": null,
       "min_height": null,
       "min_width": null,
       "object_fit": null,
       "object_position": null,
       "order": null,
       "overflow": null,
       "padding": null,
       "right": null,
       "top": null,
       "visibility": null,
       "width": null
      }
     },
     "f7fa3fc74dd543e4b47e761bd6b8d674": {
      "model_module": "@jupyter-widgets/controls",
      "model_module_version": "2.0.0",
      "model_name": "ProgressStyleModel",
      "state": {
       "_model_module": "@jupyter-widgets/controls",
       "_model_module_version": "2.0.0",
       "_model_name": "ProgressStyleModel",
       "_view_count": null,
       "_view_module": "@jupyter-widgets/base",
       "_view_module_version": "2.0.0",
       "_view_name": "StyleView",
       "bar_color": null,
       "description_width": ""
      }
     }
    },
    "version_major": 2,
    "version_minor": 0
   }
  }
 },
 "nbformat": 4,
 "nbformat_minor": 5
}
